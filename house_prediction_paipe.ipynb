{
  "cells": [
    {
      "cell_type": "code",
      "execution_count": 3,
      "metadata": {
        "id": "aQeajxe_BrAZ"
      },
      "outputs": [],
      "source": [
        "import pandas as pd\n",
        "import numpy as np\n",
        "import matplotlib.pyplot as plt\n",
        "import seaborn as sns\n",
        "import sqlite3\n",
        "import warnings\n",
        "warnings.filterwarnings('ignore')\n",
        "pd.set_option('display.max_columns', 100)\n",
        "import glob\n",
        "import os\n"
      ]
    },
    {
      "cell_type": "code",
      "execution_count": 4,
      "metadata": {
        "colab": {
          "base_uri": "https://localhost:8080/"
        },
        "id": "SdDeIDKUEGGR",
        "outputId": "6b5fc83f-361f-48a1-9d28-8fb0ec20f09a"
      },
      "outputs": [
        {
          "output_type": "stream",
          "name": "stdout",
          "text": [
            "Mounted at /content/drive\n"
          ]
        }
      ],
      "source": [
        "from google.colab import drive\n",
        "drive.mount('/content/drive')"
      ]
    },
    {
      "cell_type": "code",
      "execution_count": 5,
      "metadata": {
        "id": "k-05n__CBrAi"
      },
      "outputs": [],
      "source": [
        "caminho_pasta = '/content/drive/MyDrive/Projects/Paipe/resources'\n",
        "arquivos_csv = glob.glob(os.path.join(caminho_pasta, '*.csv'))\n",
        "lista_dataframes = []\n",
        "for arquivo in arquivos_csv:\n",
        "    df = pd.read_csv(arquivo)\n",
        "    lista_dataframes.append(df)\n",
        "\n",
        "df_concatenado = pd.concat(lista_dataframes, ignore_index=True)\n"
      ]
    },
    {
      "cell_type": "code",
      "execution_count": 6,
      "metadata": {
        "id": "2TschDjYBrAt"
      },
      "outputs": [],
      "source": [
        "df = df_concatenado[['No','Type', 'Region', 'MunicipalityCode', 'Prefecture', 'Municipality',\n",
        "                     'DistrictName', 'NearestStation', 'TimeToNearestStation',\n",
        "                     'MinTimeToNearestStation', 'MaxTimeToNearestStation', 'FloorPlan',\n",
        "                     'Area', 'AreaIsGreaterFlag', 'UnitPrice', 'PricePerTsubo', 'LandShape',\n",
        "                     'Frontage', 'FrontageIsGreaterFlag', 'TotalFloorArea', 'TotalFloorAreaIsGreaterFlag',\n",
        "                     'BuildingYear', 'PrewarBuilding', 'Structure', 'Use', 'Purpose', 'Direction',\n",
        "                     'Classification', 'Breadth', 'CityPlanning', 'CoverageRatio', 'FloorAreaRatio',\n",
        "                     'Period', 'Year', 'Quarter', 'Renovation', 'Remarks', 'TradePrice']]"
      ]
    },
    {
      "cell_type": "code",
      "execution_count": null,
      "metadata": {
        "colab": {
          "base_uri": "https://localhost:8080/"
        },
        "id": "VmjCwIKEBrAz",
        "outputId": "66c9922e-48d7-45f5-f7b3-e97cfbd8a5b2"
      },
      "outputs": [
        {
          "output_type": "execute_result",
          "data": {
            "text/plain": [
              "(3906518, 38)"
            ]
          },
          "metadata": {},
          "execution_count": 5
        }
      ],
      "source": [
        "df.shape"
      ]
    },
    {
      "cell_type": "markdown",
      "metadata": {
        "id": "KFfz8fiIBrA2"
      },
      "source": [
        "## Fazendo conexão com o banco SQLite e salvando o dataframe original"
      ]
    },
    {
      "cell_type": "code",
      "execution_count": null,
      "metadata": {
        "id": "oDGgxinsBrA8"
      },
      "outputs": [],
      "source": [
        "conn = sqlite3.connect('houses_database.db')\n",
        "cursor = conn.cursor()"
      ]
    },
    {
      "cell_type": "code",
      "execution_count": null,
      "metadata": {
        "colab": {
          "base_uri": "https://localhost:8080/"
        },
        "id": "cY9DKGKZVZcX",
        "outputId": "f10da338-2dda-49ad-acb8-4ccd26cf8625"
      },
      "outputs": [
        {
          "output_type": "execute_result",
          "data": {
            "text/plain": [
              "<sqlite3.Cursor at 0x7b2098d80d40>"
            ]
          },
          "metadata": {},
          "execution_count": 7
        }
      ],
      "source": [
        "cursor.execute('''\n",
        "    CREATE TABLE IF NOT EXISTS houses_database (\n",
        "    No INTEGER PRIMARY KEY,\n",
        "    Type TEXT,\n",
        "    Region TEXT,\n",
        "    MunicipalityCode INTEGER,\n",
        "    Prefecture TEXT,\n",
        "    Municipality TEXT,\n",
        "    DistrictName TEXT,\n",
        "    NearestStation TEXT,\n",
        "    TimeToNearestStation TEXT,\n",
        "    MinTimeToNearestStation INTEGER,\n",
        "    MaxTimeToNearestStation INTEGER,\n",
        "    FloorPlan TEXT,\n",
        "    Area INTEGER,\n",
        "    AreaIsGreaterFlag INTEGER,\n",
        "    UnitPrice REAL,\n",
        "    PricePerTsubo REAL,\n",
        "    LandShape TEXT,\n",
        "    Frontage REAL,\n",
        "    FrontageIsGreaterFlag BOOLEAN,\n",
        "    TotalFloorArea INTEGER,\n",
        "    TotalFloorAreaIsGreaterFlag INTEGER,\n",
        "    BuildingYear INTEGER,\n",
        "    PrewarBuilding INTEGER,\n",
        "    Structure TEXT,\n",
        "    Use TEXT,\n",
        "    Purpose TEXT,\n",
        "    Direction TEXT,\n",
        "    Classification TEXT,\n",
        "    Breadth REAL,\n",
        "    CityPlanning TEXT,\n",
        "    CoverageRatio INTEGER,\n",
        "    FloorAreaRatio INTEGER,\n",
        "    Period TEXT,\n",
        "    Year INTEGER,\n",
        "    Quarter INTEGER,\n",
        "    Renovation TEXT,\n",
        "    Remarks TEXT,\n",
        "    TradePrice REAL\n",
        ")\n",
        "''')"
      ]
    },
    {
      "cell_type": "code",
      "execution_count": null,
      "metadata": {
        "id": "MvvybmSiBrA-"
      },
      "outputs": [],
      "source": [
        "#df.to_sql('houses_database', conn, if_exists='replace', index=False)"
      ]
    },
    {
      "cell_type": "markdown",
      "metadata": {
        "id": "2ktHRdOgBrA_"
      },
      "source": [
        "## Análise Exploratória dos Dados"
      ]
    },
    {
      "cell_type": "code",
      "execution_count": null,
      "metadata": {
        "id": "Yj4DIx5sFrl5"
      },
      "outputs": [],
      "source": [
        "#df = pd.read_sql('SELECT * FROM houses_database', conn)"
      ]
    },
    {
      "cell_type": "code",
      "execution_count": null,
      "metadata": {
        "colab": {
          "base_uri": "https://localhost:8080/"
        },
        "id": "s6oaFIvPBrBB",
        "outputId": "c8a65255-5c3a-47f3-8082-3779df3120ad"
      },
      "outputs": [
        {
          "output_type": "stream",
          "name": "stdout",
          "text": [
            "<class 'pandas.core.frame.DataFrame'>\n",
            "RangeIndex: 3906518 entries, 0 to 3906517\n",
            "Data columns (total 38 columns):\n",
            " #   Column                       Dtype  \n",
            "---  ------                       -----  \n",
            " 0   No                           int64  \n",
            " 1   Type                         object \n",
            " 2   Region                       object \n",
            " 3   MunicipalityCode             int64  \n",
            " 4   Prefecture                   object \n",
            " 5   Municipality                 object \n",
            " 6   DistrictName                 object \n",
            " 7   NearestStation               object \n",
            " 8   TimeToNearestStation         object \n",
            " 9   MinTimeToNearestStation      float64\n",
            " 10  MaxTimeToNearestStation      float64\n",
            " 11  FloorPlan                    object \n",
            " 12  Area                         int64  \n",
            " 13  AreaIsGreaterFlag            int64  \n",
            " 14  UnitPrice                    float64\n",
            " 15  PricePerTsubo                float64\n",
            " 16  LandShape                    object \n",
            " 17  Frontage                     float64\n",
            " 18  FrontageIsGreaterFlag        bool   \n",
            " 19  TotalFloorArea               float64\n",
            " 20  TotalFloorAreaIsGreaterFlag  int64  \n",
            " 21  BuildingYear                 float64\n",
            " 22  PrewarBuilding               int64  \n",
            " 23  Structure                    object \n",
            " 24  Use                          object \n",
            " 25  Purpose                      object \n",
            " 26  Direction                    object \n",
            " 27  Classification               object \n",
            " 28  Breadth                      float64\n",
            " 29  CityPlanning                 object \n",
            " 30  CoverageRatio                float64\n",
            " 31  FloorAreaRatio               float64\n",
            " 32  Period                       object \n",
            " 33  Year                         int64  \n",
            " 34  Quarter                      int64  \n",
            " 35  Renovation                   object \n",
            " 36  Remarks                      object \n",
            " 37  TradePrice                   int64  \n",
            "dtypes: bool(1), float64(10), int64(9), object(18)\n",
            "memory usage: 1.1+ GB\n"
          ]
        }
      ],
      "source": [
        "df.info()"
      ]
    },
    {
      "cell_type": "code",
      "execution_count": null,
      "metadata": {
        "colab": {
          "base_uri": "https://localhost:8080/",
          "height": 1000
        },
        "id": "LKuIVDndBrBC",
        "outputId": "7af620d8-296b-4315-9320-ea95a7856638"
      },
      "outputs": [
        {
          "output_type": "execute_result",
          "data": {
            "text/plain": [
              "Remarks                        3674658\n",
              "Renovation                     3343122\n",
              "FloorPlan                      3309348\n",
              "Purpose                        2723740\n",
              "TotalFloorArea                 2588858\n",
              "PricePerTsubo                  2522103\n",
              "UnitPrice                      2522103\n",
              "BuildingYear                   2036714\n",
              "Use                            2020044\n",
              "Structure                      1993945\n",
              "Frontage                       1369455\n",
              "Breadth                        1220681\n",
              "Classification                 1192063\n",
              "Direction                      1129048\n",
              "LandShape                      1127530\n",
              "Region                         1117077\n",
              "FloorAreaRatio                  714641\n",
              "CoverageRatio                   714641\n",
              "MaxTimeToNearestStation         678447\n",
              "MinTimeToNearestStation         590541\n",
              "TimeToNearestStation            590541\n",
              "NearestStation                  565811\n",
              "CityPlanning                    530666\n",
              "DistrictName                      8275\n",
              "Year                                 0\n",
              "Quarter                              0\n",
              "Period                               0\n",
              "No                                   0\n",
              "PrewarBuilding                       0\n",
              "TotalFloorAreaIsGreaterFlag          0\n",
              "Type                                 0\n",
              "FrontageIsGreaterFlag                0\n",
              "AreaIsGreaterFlag                    0\n",
              "Area                                 0\n",
              "Municipality                         0\n",
              "Prefecture                           0\n",
              "MunicipalityCode                     0\n",
              "TradePrice                           0\n",
              "dtype: int64"
            ],
            "text/html": [
              "<div>\n",
              "<style scoped>\n",
              "    .dataframe tbody tr th:only-of-type {\n",
              "        vertical-align: middle;\n",
              "    }\n",
              "\n",
              "    .dataframe tbody tr th {\n",
              "        vertical-align: top;\n",
              "    }\n",
              "\n",
              "    .dataframe thead th {\n",
              "        text-align: right;\n",
              "    }\n",
              "</style>\n",
              "<table border=\"1\" class=\"dataframe\">\n",
              "  <thead>\n",
              "    <tr style=\"text-align: right;\">\n",
              "      <th></th>\n",
              "      <th>0</th>\n",
              "    </tr>\n",
              "  </thead>\n",
              "  <tbody>\n",
              "    <tr>\n",
              "      <th>Remarks</th>\n",
              "      <td>3674658</td>\n",
              "    </tr>\n",
              "    <tr>\n",
              "      <th>Renovation</th>\n",
              "      <td>3343122</td>\n",
              "    </tr>\n",
              "    <tr>\n",
              "      <th>FloorPlan</th>\n",
              "      <td>3309348</td>\n",
              "    </tr>\n",
              "    <tr>\n",
              "      <th>Purpose</th>\n",
              "      <td>2723740</td>\n",
              "    </tr>\n",
              "    <tr>\n",
              "      <th>TotalFloorArea</th>\n",
              "      <td>2588858</td>\n",
              "    </tr>\n",
              "    <tr>\n",
              "      <th>PricePerTsubo</th>\n",
              "      <td>2522103</td>\n",
              "    </tr>\n",
              "    <tr>\n",
              "      <th>UnitPrice</th>\n",
              "      <td>2522103</td>\n",
              "    </tr>\n",
              "    <tr>\n",
              "      <th>BuildingYear</th>\n",
              "      <td>2036714</td>\n",
              "    </tr>\n",
              "    <tr>\n",
              "      <th>Use</th>\n",
              "      <td>2020044</td>\n",
              "    </tr>\n",
              "    <tr>\n",
              "      <th>Structure</th>\n",
              "      <td>1993945</td>\n",
              "    </tr>\n",
              "    <tr>\n",
              "      <th>Frontage</th>\n",
              "      <td>1369455</td>\n",
              "    </tr>\n",
              "    <tr>\n",
              "      <th>Breadth</th>\n",
              "      <td>1220681</td>\n",
              "    </tr>\n",
              "    <tr>\n",
              "      <th>Classification</th>\n",
              "      <td>1192063</td>\n",
              "    </tr>\n",
              "    <tr>\n",
              "      <th>Direction</th>\n",
              "      <td>1129048</td>\n",
              "    </tr>\n",
              "    <tr>\n",
              "      <th>LandShape</th>\n",
              "      <td>1127530</td>\n",
              "    </tr>\n",
              "    <tr>\n",
              "      <th>Region</th>\n",
              "      <td>1117077</td>\n",
              "    </tr>\n",
              "    <tr>\n",
              "      <th>FloorAreaRatio</th>\n",
              "      <td>714641</td>\n",
              "    </tr>\n",
              "    <tr>\n",
              "      <th>CoverageRatio</th>\n",
              "      <td>714641</td>\n",
              "    </tr>\n",
              "    <tr>\n",
              "      <th>MaxTimeToNearestStation</th>\n",
              "      <td>678447</td>\n",
              "    </tr>\n",
              "    <tr>\n",
              "      <th>MinTimeToNearestStation</th>\n",
              "      <td>590541</td>\n",
              "    </tr>\n",
              "    <tr>\n",
              "      <th>TimeToNearestStation</th>\n",
              "      <td>590541</td>\n",
              "    </tr>\n",
              "    <tr>\n",
              "      <th>NearestStation</th>\n",
              "      <td>565811</td>\n",
              "    </tr>\n",
              "    <tr>\n",
              "      <th>CityPlanning</th>\n",
              "      <td>530666</td>\n",
              "    </tr>\n",
              "    <tr>\n",
              "      <th>DistrictName</th>\n",
              "      <td>8275</td>\n",
              "    </tr>\n",
              "    <tr>\n",
              "      <th>Year</th>\n",
              "      <td>0</td>\n",
              "    </tr>\n",
              "    <tr>\n",
              "      <th>Quarter</th>\n",
              "      <td>0</td>\n",
              "    </tr>\n",
              "    <tr>\n",
              "      <th>Period</th>\n",
              "      <td>0</td>\n",
              "    </tr>\n",
              "    <tr>\n",
              "      <th>No</th>\n",
              "      <td>0</td>\n",
              "    </tr>\n",
              "    <tr>\n",
              "      <th>PrewarBuilding</th>\n",
              "      <td>0</td>\n",
              "    </tr>\n",
              "    <tr>\n",
              "      <th>TotalFloorAreaIsGreaterFlag</th>\n",
              "      <td>0</td>\n",
              "    </tr>\n",
              "    <tr>\n",
              "      <th>Type</th>\n",
              "      <td>0</td>\n",
              "    </tr>\n",
              "    <tr>\n",
              "      <th>FrontageIsGreaterFlag</th>\n",
              "      <td>0</td>\n",
              "    </tr>\n",
              "    <tr>\n",
              "      <th>AreaIsGreaterFlag</th>\n",
              "      <td>0</td>\n",
              "    </tr>\n",
              "    <tr>\n",
              "      <th>Area</th>\n",
              "      <td>0</td>\n",
              "    </tr>\n",
              "    <tr>\n",
              "      <th>Municipality</th>\n",
              "      <td>0</td>\n",
              "    </tr>\n",
              "    <tr>\n",
              "      <th>Prefecture</th>\n",
              "      <td>0</td>\n",
              "    </tr>\n",
              "    <tr>\n",
              "      <th>MunicipalityCode</th>\n",
              "      <td>0</td>\n",
              "    </tr>\n",
              "    <tr>\n",
              "      <th>TradePrice</th>\n",
              "      <td>0</td>\n",
              "    </tr>\n",
              "  </tbody>\n",
              "</table>\n",
              "</div><br><label><b>dtype:</b> int64</label>"
            ]
          },
          "metadata": {},
          "execution_count": 11
        }
      ],
      "source": [
        "df.isnull().sum().sort_values(ascending=False)"
      ]
    },
    {
      "cell_type": "code",
      "execution_count": 7,
      "metadata": {
        "id": "ufDaoh7vBrBE"
      },
      "outputs": [],
      "source": [
        "dict_nulos = {\n",
        "    'No': 0,\n",
        "    'Remarks': 'Nothing to add',\n",
        "    'Renovation': 'Unclear',\n",
        "    'FloorPlan': 'Unclear',\n",
        "    'Purpose': 'Not defined',\n",
        "    'TotalFloorArea': 0,\n",
        "    'PricePerTsubo': 0.0,\n",
        "    'UnitPrice': 0.0,\n",
        "    'BuildingYear': 2,\n",
        "    'Use': 'Unclear',\n",
        "    'Structure': 'Not defined',\n",
        "    'Frontage': 0.0,\n",
        "    'Breadth': 0.0,\n",
        "    'Classification': 'Not defined',\n",
        "    'Direction': 'Not defined',\n",
        "    'LandShape': 'Not defined',\n",
        "    'Region': 'Not defined',\n",
        "    'CoverageRatio': 0,\n",
        "    'FloorAreaRatio': 0,\n",
        "    'MaxTimeToNearestStation': 0,\n",
        "    'MinTimeToNearestStation':0,\n",
        "    'TimeToNearestStation': 'Not Defined',\n",
        "    'NearestStation': 'Not Defined',\n",
        "    'CityPlanning': 'Not Defined',\n",
        "    'DistrictName': 'Not Defined',\n",
        "    'Period': 'Not Defined',\n",
        "    'Year': 2019, # Ultimo ano de referencia\n",
        "    'Quarter': 0,\n",
        "    'Type': 'Not Defined',\n",
        "    'PrewarBuilding': 0,\n",
        "    'TotalFloorAreaIsGreaterFlag': 0,\n",
        "    'FrontageIsGreaterFlag': True,\n",
        "    'AreaIsGreaterFlag': 1,\n",
        "    'Area': 0,\n",
        "    'Municipality': 'Not Defined',\n",
        "    'Prefecture': 'Not Defined',\n",
        "    'MunicipalityCode': 00000,\n",
        "    'TradePrice': 0\n",
        "\n",
        "}"
      ]
    },
    {
      "cell_type": "code",
      "execution_count": 8,
      "metadata": {
        "id": "l5BN-Z0yBrBF"
      },
      "outputs": [],
      "source": [
        "for col in df.columns:\n",
        "    df[f'{col}'] = df[f'{col}'].fillna(dict_nulos[f'{col}'])"
      ]
    },
    {
      "cell_type": "code",
      "execution_count": 9,
      "metadata": {
        "colab": {
          "base_uri": "https://localhost:8080/",
          "height": 206
        },
        "id": "2AR9_lySBrBG",
        "outputId": "b609be8f-3ae2-44ba-ae00-09c9a2ace8b8"
      },
      "outputs": [
        {
          "output_type": "execute_result",
          "data": {
            "text/plain": [
              "            Region                                 Use  BuildingYear  \\\n",
              "0  Commercial Area                             Factory        1702.0   \n",
              "1  Commercial Area                     Factory, Office        1899.0   \n",
              "2  Commercial Area              Factory, Office, Other        1977.0   \n",
              "3  Commercial Area        Factory, Office, Parking Lot        1986.0   \n",
              "4  Commercial Area  Factory, Office, Parking Lot, Shop        1990.0   \n",
              "\n",
              "   CoverageRatio  MaxTimeToNearestStation  MinTimeToNearestStation  \\\n",
              "0           61.0                     25.0                     21.0   \n",
              "1           62.0                     28.0                     22.0   \n",
              "2           65.0                     35.0                     23.0   \n",
              "3           72.0                     14.0                     11.0   \n",
              "4           80.0                     14.0                     14.0   \n",
              "\n",
              "    TradePrice  \n",
              "0  158926447.0  \n",
              "1  125908053.0  \n",
              "2  206833333.0  \n",
              "3  302900000.0  \n",
              "4  260000000.0  "
            ],
            "text/html": [
              "\n",
              "  <div id=\"df-d802c8e3-7174-4d40-9db5-6c2a679f663d\" class=\"colab-df-container\">\n",
              "    <div>\n",
              "<style scoped>\n",
              "    .dataframe tbody tr th:only-of-type {\n",
              "        vertical-align: middle;\n",
              "    }\n",
              "\n",
              "    .dataframe tbody tr th {\n",
              "        vertical-align: top;\n",
              "    }\n",
              "\n",
              "    .dataframe thead th {\n",
              "        text-align: right;\n",
              "    }\n",
              "</style>\n",
              "<table border=\"1\" class=\"dataframe\">\n",
              "  <thead>\n",
              "    <tr style=\"text-align: right;\">\n",
              "      <th></th>\n",
              "      <th>Region</th>\n",
              "      <th>Use</th>\n",
              "      <th>BuildingYear</th>\n",
              "      <th>CoverageRatio</th>\n",
              "      <th>MaxTimeToNearestStation</th>\n",
              "      <th>MinTimeToNearestStation</th>\n",
              "      <th>TradePrice</th>\n",
              "    </tr>\n",
              "  </thead>\n",
              "  <tbody>\n",
              "    <tr>\n",
              "      <th>0</th>\n",
              "      <td>Commercial Area</td>\n",
              "      <td>Factory</td>\n",
              "      <td>1702.0</td>\n",
              "      <td>61.0</td>\n",
              "      <td>25.0</td>\n",
              "      <td>21.0</td>\n",
              "      <td>158926447.0</td>\n",
              "    </tr>\n",
              "    <tr>\n",
              "      <th>1</th>\n",
              "      <td>Commercial Area</td>\n",
              "      <td>Factory, Office</td>\n",
              "      <td>1899.0</td>\n",
              "      <td>62.0</td>\n",
              "      <td>28.0</td>\n",
              "      <td>22.0</td>\n",
              "      <td>125908053.0</td>\n",
              "    </tr>\n",
              "    <tr>\n",
              "      <th>2</th>\n",
              "      <td>Commercial Area</td>\n",
              "      <td>Factory, Office, Other</td>\n",
              "      <td>1977.0</td>\n",
              "      <td>65.0</td>\n",
              "      <td>35.0</td>\n",
              "      <td>23.0</td>\n",
              "      <td>206833333.0</td>\n",
              "    </tr>\n",
              "    <tr>\n",
              "      <th>3</th>\n",
              "      <td>Commercial Area</td>\n",
              "      <td>Factory, Office, Parking Lot</td>\n",
              "      <td>1986.0</td>\n",
              "      <td>72.0</td>\n",
              "      <td>14.0</td>\n",
              "      <td>11.0</td>\n",
              "      <td>302900000.0</td>\n",
              "    </tr>\n",
              "    <tr>\n",
              "      <th>4</th>\n",
              "      <td>Commercial Area</td>\n",
              "      <td>Factory, Office, Parking Lot, Shop</td>\n",
              "      <td>1990.0</td>\n",
              "      <td>80.0</td>\n",
              "      <td>14.0</td>\n",
              "      <td>14.0</td>\n",
              "      <td>260000000.0</td>\n",
              "    </tr>\n",
              "  </tbody>\n",
              "</table>\n",
              "</div>\n",
              "    <div class=\"colab-df-buttons\">\n",
              "\n",
              "  <div class=\"colab-df-container\">\n",
              "    <button class=\"colab-df-convert\" onclick=\"convertToInteractive('df-d802c8e3-7174-4d40-9db5-6c2a679f663d')\"\n",
              "            title=\"Convert this dataframe to an interactive table.\"\n",
              "            style=\"display:none;\">\n",
              "\n",
              "  <svg xmlns=\"http://www.w3.org/2000/svg\" height=\"24px\" viewBox=\"0 -960 960 960\">\n",
              "    <path d=\"M120-120v-720h720v720H120Zm60-500h600v-160H180v160Zm220 220h160v-160H400v160Zm0 220h160v-160H400v160ZM180-400h160v-160H180v160Zm440 0h160v-160H620v160ZM180-180h160v-160H180v160Zm440 0h160v-160H620v160Z\"/>\n",
              "  </svg>\n",
              "    </button>\n",
              "\n",
              "  <style>\n",
              "    .colab-df-container {\n",
              "      display:flex;\n",
              "      gap: 12px;\n",
              "    }\n",
              "\n",
              "    .colab-df-convert {\n",
              "      background-color: #E8F0FE;\n",
              "      border: none;\n",
              "      border-radius: 50%;\n",
              "      cursor: pointer;\n",
              "      display: none;\n",
              "      fill: #1967D2;\n",
              "      height: 32px;\n",
              "      padding: 0 0 0 0;\n",
              "      width: 32px;\n",
              "    }\n",
              "\n",
              "    .colab-df-convert:hover {\n",
              "      background-color: #E2EBFA;\n",
              "      box-shadow: 0px 1px 2px rgba(60, 64, 67, 0.3), 0px 1px 3px 1px rgba(60, 64, 67, 0.15);\n",
              "      fill: #174EA6;\n",
              "    }\n",
              "\n",
              "    .colab-df-buttons div {\n",
              "      margin-bottom: 4px;\n",
              "    }\n",
              "\n",
              "    [theme=dark] .colab-df-convert {\n",
              "      background-color: #3B4455;\n",
              "      fill: #D2E3FC;\n",
              "    }\n",
              "\n",
              "    [theme=dark] .colab-df-convert:hover {\n",
              "      background-color: #434B5C;\n",
              "      box-shadow: 0px 1px 3px 1px rgba(0, 0, 0, 0.15);\n",
              "      filter: drop-shadow(0px 1px 2px rgba(0, 0, 0, 0.3));\n",
              "      fill: #FFFFFF;\n",
              "    }\n",
              "  </style>\n",
              "\n",
              "    <script>\n",
              "      const buttonEl =\n",
              "        document.querySelector('#df-d802c8e3-7174-4d40-9db5-6c2a679f663d button.colab-df-convert');\n",
              "      buttonEl.style.display =\n",
              "        google.colab.kernel.accessAllowed ? 'block' : 'none';\n",
              "\n",
              "      async function convertToInteractive(key) {\n",
              "        const element = document.querySelector('#df-d802c8e3-7174-4d40-9db5-6c2a679f663d');\n",
              "        const dataTable =\n",
              "          await google.colab.kernel.invokeFunction('convertToInteractive',\n",
              "                                                    [key], {});\n",
              "        if (!dataTable) return;\n",
              "\n",
              "        const docLinkHtml = 'Like what you see? Visit the ' +\n",
              "          '<a target=\"_blank\" href=https://colab.research.google.com/notebooks/data_table.ipynb>data table notebook</a>'\n",
              "          + ' to learn more about interactive tables.';\n",
              "        element.innerHTML = '';\n",
              "        dataTable['output_type'] = 'display_data';\n",
              "        await google.colab.output.renderOutput(dataTable, element);\n",
              "        const docLink = document.createElement('div');\n",
              "        docLink.innerHTML = docLinkHtml;\n",
              "        element.appendChild(docLink);\n",
              "      }\n",
              "    </script>\n",
              "  </div>\n",
              "\n",
              "\n",
              "<div id=\"df-4191f16c-6a38-4f14-a562-7d3401baac95\">\n",
              "  <button class=\"colab-df-quickchart\" onclick=\"quickchart('df-4191f16c-6a38-4f14-a562-7d3401baac95')\"\n",
              "            title=\"Suggest charts\"\n",
              "            style=\"display:none;\">\n",
              "\n",
              "<svg xmlns=\"http://www.w3.org/2000/svg\" height=\"24px\"viewBox=\"0 0 24 24\"\n",
              "     width=\"24px\">\n",
              "    <g>\n",
              "        <path d=\"M19 3H5c-1.1 0-2 .9-2 2v14c0 1.1.9 2 2 2h14c1.1 0 2-.9 2-2V5c0-1.1-.9-2-2-2zM9 17H7v-7h2v7zm4 0h-2V7h2v10zm4 0h-2v-4h2v4z\"/>\n",
              "    </g>\n",
              "</svg>\n",
              "  </button>\n",
              "\n",
              "<style>\n",
              "  .colab-df-quickchart {\n",
              "      --bg-color: #E8F0FE;\n",
              "      --fill-color: #1967D2;\n",
              "      --hover-bg-color: #E2EBFA;\n",
              "      --hover-fill-color: #174EA6;\n",
              "      --disabled-fill-color: #AAA;\n",
              "      --disabled-bg-color: #DDD;\n",
              "  }\n",
              "\n",
              "  [theme=dark] .colab-df-quickchart {\n",
              "      --bg-color: #3B4455;\n",
              "      --fill-color: #D2E3FC;\n",
              "      --hover-bg-color: #434B5C;\n",
              "      --hover-fill-color: #FFFFFF;\n",
              "      --disabled-bg-color: #3B4455;\n",
              "      --disabled-fill-color: #666;\n",
              "  }\n",
              "\n",
              "  .colab-df-quickchart {\n",
              "    background-color: var(--bg-color);\n",
              "    border: none;\n",
              "    border-radius: 50%;\n",
              "    cursor: pointer;\n",
              "    display: none;\n",
              "    fill: var(--fill-color);\n",
              "    height: 32px;\n",
              "    padding: 0;\n",
              "    width: 32px;\n",
              "  }\n",
              "\n",
              "  .colab-df-quickchart:hover {\n",
              "    background-color: var(--hover-bg-color);\n",
              "    box-shadow: 0 1px 2px rgba(60, 64, 67, 0.3), 0 1px 3px 1px rgba(60, 64, 67, 0.15);\n",
              "    fill: var(--button-hover-fill-color);\n",
              "  }\n",
              "\n",
              "  .colab-df-quickchart-complete:disabled,\n",
              "  .colab-df-quickchart-complete:disabled:hover {\n",
              "    background-color: var(--disabled-bg-color);\n",
              "    fill: var(--disabled-fill-color);\n",
              "    box-shadow: none;\n",
              "  }\n",
              "\n",
              "  .colab-df-spinner {\n",
              "    border: 2px solid var(--fill-color);\n",
              "    border-color: transparent;\n",
              "    border-bottom-color: var(--fill-color);\n",
              "    animation:\n",
              "      spin 1s steps(1) infinite;\n",
              "  }\n",
              "\n",
              "  @keyframes spin {\n",
              "    0% {\n",
              "      border-color: transparent;\n",
              "      border-bottom-color: var(--fill-color);\n",
              "      border-left-color: var(--fill-color);\n",
              "    }\n",
              "    20% {\n",
              "      border-color: transparent;\n",
              "      border-left-color: var(--fill-color);\n",
              "      border-top-color: var(--fill-color);\n",
              "    }\n",
              "    30% {\n",
              "      border-color: transparent;\n",
              "      border-left-color: var(--fill-color);\n",
              "      border-top-color: var(--fill-color);\n",
              "      border-right-color: var(--fill-color);\n",
              "    }\n",
              "    40% {\n",
              "      border-color: transparent;\n",
              "      border-right-color: var(--fill-color);\n",
              "      border-top-color: var(--fill-color);\n",
              "    }\n",
              "    60% {\n",
              "      border-color: transparent;\n",
              "      border-right-color: var(--fill-color);\n",
              "    }\n",
              "    80% {\n",
              "      border-color: transparent;\n",
              "      border-right-color: var(--fill-color);\n",
              "      border-bottom-color: var(--fill-color);\n",
              "    }\n",
              "    90% {\n",
              "      border-color: transparent;\n",
              "      border-bottom-color: var(--fill-color);\n",
              "    }\n",
              "  }\n",
              "</style>\n",
              "\n",
              "  <script>\n",
              "    async function quickchart(key) {\n",
              "      const quickchartButtonEl =\n",
              "        document.querySelector('#' + key + ' button');\n",
              "      quickchartButtonEl.disabled = true;  // To prevent multiple clicks.\n",
              "      quickchartButtonEl.classList.add('colab-df-spinner');\n",
              "      try {\n",
              "        const charts = await google.colab.kernel.invokeFunction(\n",
              "            'suggestCharts', [key], {});\n",
              "      } catch (error) {\n",
              "        console.error('Error during call to suggestCharts:', error);\n",
              "      }\n",
              "      quickchartButtonEl.classList.remove('colab-df-spinner');\n",
              "      quickchartButtonEl.classList.add('colab-df-quickchart-complete');\n",
              "    }\n",
              "    (() => {\n",
              "      let quickchartButtonEl =\n",
              "        document.querySelector('#df-4191f16c-6a38-4f14-a562-7d3401baac95 button');\n",
              "      quickchartButtonEl.style.display =\n",
              "        google.colab.kernel.accessAllowed ? 'block' : 'none';\n",
              "    })();\n",
              "  </script>\n",
              "</div>\n",
              "\n",
              "    </div>\n",
              "  </div>\n"
            ],
            "application/vnd.google.colaboratory.intrinsic+json": {
              "type": "dataframe",
              "variable_name": "df_region",
              "summary": "{\n  \"name\": \"df_region\",\n  \"rows\": 695,\n  \"fields\": [\n    {\n      \"column\": \"Region\",\n      \"properties\": {\n        \"dtype\": \"category\",\n        \"num_unique_values\": 5,\n        \"samples\": [\n          \"Industrial Area\",\n          \"Residential Area\",\n          \"Not defined\"\n        ],\n        \"semantic_type\": \"\",\n        \"description\": \"\"\n      }\n    },\n    {\n      \"column\": \"Use\",\n      \"properties\": {\n        \"dtype\": \"category\",\n        \"num_unique_values\": 280,\n        \"samples\": [\n          \"House, Factory\",\n          \"House, Parking Lot\",\n          \"Factory, Office, Workshop, Warehouse, Other\"\n        ],\n        \"semantic_type\": \"\",\n        \"description\": \"\"\n      }\n    },\n    {\n      \"column\": \"BuildingYear\",\n      \"properties\": {\n        \"dtype\": \"number\",\n        \"std\": 373.0419232743483,\n        \"min\": 2.0,\n        \"max\": 2015.0,\n        \"num_unique_values\": 233,\n        \"samples\": [\n          1799.0,\n          1490.0,\n          1807.0\n        ],\n        \"semantic_type\": \"\",\n        \"description\": \"\"\n      }\n    },\n    {\n      \"column\": \"CoverageRatio\",\n      \"properties\": {\n        \"dtype\": \"number\",\n        \"std\": 12.41731719585779,\n        \"min\": 0.0,\n        \"max\": 80.0,\n        \"num_unique_values\": 48,\n        \"samples\": [\n          56.0,\n          35.0,\n          55.0\n        ],\n        \"semantic_type\": \"\",\n        \"description\": \"\"\n      }\n    },\n    {\n      \"column\": \"MaxTimeToNearestStation\",\n      \"properties\": {\n        \"dtype\": \"number\",\n        \"std\": 18.292757435729875,\n        \"min\": 0.0,\n        \"max\": 120.0,\n        \"num_unique_values\": 62,\n        \"samples\": [\n          29.0,\n          45.0,\n          25.0\n        ],\n        \"semantic_type\": \"\",\n        \"description\": \"\"\n      }\n    },\n    {\n      \"column\": \"MinTimeToNearestStation\",\n      \"properties\": {\n        \"dtype\": \"number\",\n        \"std\": 14.928865114983775,\n        \"min\": 0.0,\n        \"max\": 120.0,\n        \"num_unique_values\": 59,\n        \"samples\": [\n          21.0,\n          20.0,\n          41.0\n        ],\n        \"semantic_type\": \"\",\n        \"description\": \"\"\n      }\n    },\n    {\n      \"column\": \"TradePrice\",\n      \"properties\": {\n        \"dtype\": \"number\",\n        \"std\": 268912536.1698692,\n        \"min\": 620000.0,\n        \"max\": 3058234375.0,\n        \"num_unique_values\": 609,\n        \"samples\": [\n          50095238.0,\n          31321875.0,\n          37987500.0\n        ],\n        \"semantic_type\": \"\",\n        \"description\": \"\"\n      }\n    }\n  ]\n}"
            }
          },
          "metadata": {},
          "execution_count": 9
        }
      ],
      "source": [
        "df_region = df[['Region', 'Use','BuildingYear','CoverageRatio',\n",
        "                'MaxTimeToNearestStation', 'MinTimeToNearestStation',\n",
        "                'TradePrice']]\n",
        "\n",
        "df_region = round(df_region.groupby(['Region','Use']).mean())\n",
        "df_region = df_region.reset_index()\n",
        "df_region['Region'] = df_region['Region'].fillna(method='ffill')\n",
        "df_region.head(5)"
      ]
    },
    {
      "cell_type": "code",
      "execution_count": 10,
      "metadata": {
        "id": "2INhxOUHBrBH"
      },
      "outputs": [],
      "source": [
        "# Tratamento dos nulos (que agora estão zerados) e da coluna TradePrice para média de cada região e uso.\n",
        "df_price = df.query('TradePrice == 0')\n",
        "df_price.rename(columns={'TradePrice': 'Zerados'}, inplace=True)\n",
        "df_region_price = df_region[['Region', 'Use', 'TradePrice']]\n",
        "df_price_region = pd.merge(df_price, df_region_price, on=['Region', 'Use'])\n",
        "df_price_region.drop(columns=['Zerados'], inplace=True)"
      ]
    },
    {
      "cell_type": "code",
      "execution_count": 11,
      "metadata": {
        "colab": {
          "base_uri": "https://localhost:8080/"
        },
        "id": "YRcbw3bpBrBI",
        "outputId": "c6ef27d7-de97-4001-ad2b-8c1e6e5a8536"
      },
      "outputs": [
        {
          "output_type": "stream",
          "name": "stdout",
          "text": [
            "(3906518, 38)\n"
          ]
        }
      ],
      "source": [
        "df_sem_tradeZerado = df.query('TradePrice != 0')\n",
        "df_2 = pd.concat([df_sem_tradeZerado, df_price_region])\n",
        "print(df_2.shape)"
      ]
    },
    {
      "cell_type": "code",
      "execution_count": 12,
      "metadata": {
        "id": "3geF-mrOBrBL"
      },
      "outputs": [],
      "source": [
        "# Tratamento dos anos que estavam nulos para algo mais aproximado\n",
        "df_ano = df.query('BuildingYear == 0')\n",
        "df_ano.rename(columns={'BuildingYear': 'Anos_Zerados'}, inplace=True)\n",
        "df_region_ano = df_region[['Region', 'Use', 'BuildingYear']]\n",
        "df_ano_region = pd.merge(df_ano, df_region_ano, on=['Region', 'Use'])\n",
        "df_ano_region.drop(columns=['Anos_Zerados'], inplace=True)"
      ]
    },
    {
      "cell_type": "code",
      "execution_count": 13,
      "metadata": {
        "colab": {
          "base_uri": "https://localhost:8080/"
        },
        "id": "XFhSlgiQBrBO",
        "outputId": "5b831d04-4184-43cb-ba88-58f02e0536f1"
      },
      "outputs": [
        {
          "output_type": "stream",
          "name": "stdout",
          "text": [
            "(3906518, 38)\n"
          ]
        }
      ],
      "source": [
        "df_sem_anoZerado = df_2.query('BuildingYear != 0')\n",
        "df = pd.concat([df_sem_anoZerado, df_ano_region])\n",
        "print(df.shape)"
      ]
    },
    {
      "cell_type": "code",
      "source": [],
      "metadata": {
        "id": "mpvX7NXH5HJ-"
      },
      "execution_count": null,
      "outputs": []
    },
    {
      "cell_type": "code",
      "execution_count": null,
      "metadata": {
        "colab": {
          "base_uri": "https://localhost:8080/",
          "height": 1000
        },
        "id": "wu8EkolFBrBP",
        "outputId": "296e6992-ed35-4214-c43a-7d0b6a242786"
      },
      "outputs": [
        {
          "output_type": "execute_result",
          "data": {
            "text/plain": [
              "No                             0\n",
              "Breadth                        0\n",
              "BuildingYear                   0\n",
              "PrewarBuilding                 0\n",
              "Structure                      0\n",
              "Use                            0\n",
              "Purpose                        0\n",
              "Direction                      0\n",
              "Classification                 0\n",
              "CityPlanning                   0\n",
              "Type                           0\n",
              "CoverageRatio                  0\n",
              "FloorAreaRatio                 0\n",
              "Period                         0\n",
              "Year                           0\n",
              "Quarter                        0\n",
              "Renovation                     0\n",
              "Remarks                        0\n",
              "TotalFloorAreaIsGreaterFlag    0\n",
              "TotalFloorArea                 0\n",
              "FrontageIsGreaterFlag          0\n",
              "Frontage                       0\n",
              "Region                         0\n",
              "MunicipalityCode               0\n",
              "Prefecture                     0\n",
              "Municipality                   0\n",
              "DistrictName                   0\n",
              "NearestStation                 0\n",
              "TimeToNearestStation           0\n",
              "MinTimeToNearestStation        0\n",
              "MaxTimeToNearestStation        0\n",
              "FloorPlan                      0\n",
              "Area                           0\n",
              "AreaIsGreaterFlag              0\n",
              "UnitPrice                      0\n",
              "PricePerTsubo                  0\n",
              "LandShape                      0\n",
              "TradePrice                     0\n",
              "dtype: int64"
            ],
            "text/html": [
              "<div>\n",
              "<style scoped>\n",
              "    .dataframe tbody tr th:only-of-type {\n",
              "        vertical-align: middle;\n",
              "    }\n",
              "\n",
              "    .dataframe tbody tr th {\n",
              "        vertical-align: top;\n",
              "    }\n",
              "\n",
              "    .dataframe thead th {\n",
              "        text-align: right;\n",
              "    }\n",
              "</style>\n",
              "<table border=\"1\" class=\"dataframe\">\n",
              "  <thead>\n",
              "    <tr style=\"text-align: right;\">\n",
              "      <th></th>\n",
              "      <th>0</th>\n",
              "    </tr>\n",
              "  </thead>\n",
              "  <tbody>\n",
              "    <tr>\n",
              "      <th>No</th>\n",
              "      <td>0</td>\n",
              "    </tr>\n",
              "    <tr>\n",
              "      <th>Breadth</th>\n",
              "      <td>0</td>\n",
              "    </tr>\n",
              "    <tr>\n",
              "      <th>BuildingYear</th>\n",
              "      <td>0</td>\n",
              "    </tr>\n",
              "    <tr>\n",
              "      <th>PrewarBuilding</th>\n",
              "      <td>0</td>\n",
              "    </tr>\n",
              "    <tr>\n",
              "      <th>Structure</th>\n",
              "      <td>0</td>\n",
              "    </tr>\n",
              "    <tr>\n",
              "      <th>Use</th>\n",
              "      <td>0</td>\n",
              "    </tr>\n",
              "    <tr>\n",
              "      <th>Purpose</th>\n",
              "      <td>0</td>\n",
              "    </tr>\n",
              "    <tr>\n",
              "      <th>Direction</th>\n",
              "      <td>0</td>\n",
              "    </tr>\n",
              "    <tr>\n",
              "      <th>Classification</th>\n",
              "      <td>0</td>\n",
              "    </tr>\n",
              "    <tr>\n",
              "      <th>CityPlanning</th>\n",
              "      <td>0</td>\n",
              "    </tr>\n",
              "    <tr>\n",
              "      <th>Type</th>\n",
              "      <td>0</td>\n",
              "    </tr>\n",
              "    <tr>\n",
              "      <th>CoverageRatio</th>\n",
              "      <td>0</td>\n",
              "    </tr>\n",
              "    <tr>\n",
              "      <th>FloorAreaRatio</th>\n",
              "      <td>0</td>\n",
              "    </tr>\n",
              "    <tr>\n",
              "      <th>Period</th>\n",
              "      <td>0</td>\n",
              "    </tr>\n",
              "    <tr>\n",
              "      <th>Year</th>\n",
              "      <td>0</td>\n",
              "    </tr>\n",
              "    <tr>\n",
              "      <th>Quarter</th>\n",
              "      <td>0</td>\n",
              "    </tr>\n",
              "    <tr>\n",
              "      <th>Renovation</th>\n",
              "      <td>0</td>\n",
              "    </tr>\n",
              "    <tr>\n",
              "      <th>Remarks</th>\n",
              "      <td>0</td>\n",
              "    </tr>\n",
              "    <tr>\n",
              "      <th>TotalFloorAreaIsGreaterFlag</th>\n",
              "      <td>0</td>\n",
              "    </tr>\n",
              "    <tr>\n",
              "      <th>TotalFloorArea</th>\n",
              "      <td>0</td>\n",
              "    </tr>\n",
              "    <tr>\n",
              "      <th>FrontageIsGreaterFlag</th>\n",
              "      <td>0</td>\n",
              "    </tr>\n",
              "    <tr>\n",
              "      <th>Frontage</th>\n",
              "      <td>0</td>\n",
              "    </tr>\n",
              "    <tr>\n",
              "      <th>Region</th>\n",
              "      <td>0</td>\n",
              "    </tr>\n",
              "    <tr>\n",
              "      <th>MunicipalityCode</th>\n",
              "      <td>0</td>\n",
              "    </tr>\n",
              "    <tr>\n",
              "      <th>Prefecture</th>\n",
              "      <td>0</td>\n",
              "    </tr>\n",
              "    <tr>\n",
              "      <th>Municipality</th>\n",
              "      <td>0</td>\n",
              "    </tr>\n",
              "    <tr>\n",
              "      <th>DistrictName</th>\n",
              "      <td>0</td>\n",
              "    </tr>\n",
              "    <tr>\n",
              "      <th>NearestStation</th>\n",
              "      <td>0</td>\n",
              "    </tr>\n",
              "    <tr>\n",
              "      <th>TimeToNearestStation</th>\n",
              "      <td>0</td>\n",
              "    </tr>\n",
              "    <tr>\n",
              "      <th>MinTimeToNearestStation</th>\n",
              "      <td>0</td>\n",
              "    </tr>\n",
              "    <tr>\n",
              "      <th>MaxTimeToNearestStation</th>\n",
              "      <td>0</td>\n",
              "    </tr>\n",
              "    <tr>\n",
              "      <th>FloorPlan</th>\n",
              "      <td>0</td>\n",
              "    </tr>\n",
              "    <tr>\n",
              "      <th>Area</th>\n",
              "      <td>0</td>\n",
              "    </tr>\n",
              "    <tr>\n",
              "      <th>AreaIsGreaterFlag</th>\n",
              "      <td>0</td>\n",
              "    </tr>\n",
              "    <tr>\n",
              "      <th>UnitPrice</th>\n",
              "      <td>0</td>\n",
              "    </tr>\n",
              "    <tr>\n",
              "      <th>PricePerTsubo</th>\n",
              "      <td>0</td>\n",
              "    </tr>\n",
              "    <tr>\n",
              "      <th>LandShape</th>\n",
              "      <td>0</td>\n",
              "    </tr>\n",
              "    <tr>\n",
              "      <th>TradePrice</th>\n",
              "      <td>0</td>\n",
              "    </tr>\n",
              "  </tbody>\n",
              "</table>\n",
              "</div><br><label><b>dtype:</b> int64</label>"
            ]
          },
          "metadata": {},
          "execution_count": 19
        }
      ],
      "source": [
        "df.isnull().sum().sort_values(ascending=False)"
      ]
    },
    {
      "cell_type": "code",
      "execution_count": 14,
      "metadata": {
        "id": "GO4x6wB3BrBQ"
      },
      "outputs": [],
      "source": [
        "df['MinTimeToNearestStation'] = df['MinTimeToNearestStation'].astype(int)\n",
        "df['MaxTimeToNearestStation'] = df['MaxTimeToNearestStation'].astype(int)\n",
        "df['TotalFloorArea'] = df['TotalFloorArea'].astype(int)\n",
        "df['BuildingYear'] = df['BuildingYear'].astype(int)\n",
        "df['CoverageRatio'] = df['CoverageRatio'].astype(int)\n",
        "df['FloorAreaRatio'] = df['FloorAreaRatio'].astype(int)\n"
      ]
    },
    {
      "cell_type": "code",
      "execution_count": null,
      "metadata": {
        "colab": {
          "base_uri": "https://localhost:8080/",
          "height": 320
        },
        "id": "FeMU9mYpyk7Y",
        "outputId": "0626a051-22b8-4225-e877-1e98884523ef"
      },
      "outputs": [
        {
          "output_type": "execute_result",
          "data": {
            "text/plain": [
              "                 No  MunicipalityCode  MinTimeToNearestStation  \\\n",
              "count  3.906518e+06      3.906518e+06             3.906518e+06   \n",
              "mean   7.835413e+04      2.046713e+04             1.917019e+01   \n",
              "std    8.017355e+04      1.217548e+04             2.275312e+01   \n",
              "min    1.000000e+00      1.101000e+03             0.000000e+00   \n",
              "25%    2.078000e+04      1.220400e+04             5.000000e+00   \n",
              "50%    4.815900e+04      1.721000e+04             1.300000e+01   \n",
              "75%    1.147330e+05      2.811000e+04             2.800000e+01   \n",
              "max    4.065750e+05      4.738200e+04             1.200000e+02   \n",
              "\n",
              "       MaxTimeToNearestStation          Area  AreaIsGreaterFlag     UnitPrice  \\\n",
              "count             3.906518e+06  3.906518e+06       3.906518e+06  3.906518e+06   \n",
              "mean              2.262816e+01  4.674023e+02       3.749528e-02  3.017556e+04   \n",
              "std               2.726023e+01  8.476877e+02       1.899721e-01  1.083630e+05   \n",
              "min               0.000000e+00  1.000000e+01       0.000000e+00  0.000000e+00   \n",
              "25%               4.000000e+00  1.000000e+02       0.000000e+00  0.000000e+00   \n",
              "50%               1.200000e+01  1.850000e+02       0.000000e+00  0.000000e+00   \n",
              "75%               2.500000e+01  3.700000e+02       0.000000e+00  2.000000e+04   \n",
              "max               1.200000e+02  5.000000e+03       1.000000e+00  2.000000e+07   \n",
              "\n",
              "       PricePerTsubo      Frontage  TotalFloorArea  \\\n",
              "count   3.906518e+06  3.906518e+06    3.906518e+06   \n",
              "mean    9.972649e+04  9.507562e+00    5.907978e+01   \n",
              "std     3.578807e+05  1.056054e+01    1.704077e+02   \n",
              "min     0.000000e+00  0.000000e+00    0.000000e+00   \n",
              "25%     0.000000e+00  0.000000e+00    0.000000e+00   \n",
              "50%     0.000000e+00  8.100000e+00    0.000000e+00   \n",
              "75%     6.600000e+04  1.400000e+01    9.500000e+01   \n",
              "max     6.600000e+07  5.000000e+01    2.000000e+03   \n",
              "\n",
              "       TotalFloorAreaIsGreaterFlag  BuildingYear  PrewarBuilding  \\\n",
              "count                 3.906518e+06  3.906518e+06    3.906518e+06   \n",
              "mean                  2.924343e-03  9.561482e+02    9.860443e-04   \n",
              "std                   5.399808e-02  9.958803e+02    3.138586e-02   \n",
              "min                   0.000000e+00  2.000000e+00    0.000000e+00   \n",
              "25%                   0.000000e+00  2.000000e+00    0.000000e+00   \n",
              "50%                   0.000000e+00  2.000000e+00    0.000000e+00   \n",
              "75%                   0.000000e+00  1.995000e+03    0.000000e+00   \n",
              "max                   1.000000e+00  2.020000e+03    1.000000e+00   \n",
              "\n",
              "            Breadth  CoverageRatio  FloorAreaRatio          Year  \\\n",
              "count  3.906518e+06   3.906518e+06    3.906518e+06  3.906518e+06   \n",
              "mean   4.670245e+00   4.984948e+01    1.707576e+02  2.012866e+03   \n",
              "std    4.967957e+00   2.526929e+01    1.264062e+02  3.678827e+00   \n",
              "min    0.000000e+00   0.000000e+00    0.000000e+00  2.005000e+03   \n",
              "25%    0.000000e+00   5.000000e+01    8.000000e+01  2.010000e+03   \n",
              "50%    4.500000e+00   6.000000e+01    2.000000e+02  2.013000e+03   \n",
              "75%    6.000000e+00   6.000000e+01    2.000000e+02  2.016000e+03   \n",
              "max    9.990000e+01   8.000000e+01    1.300000e+03  2.019000e+03   \n",
              "\n",
              "            Quarter    TradePrice  \n",
              "count  3.906518e+06  3.906518e+06  \n",
              "mean   2.519816e+00  2.760589e+07  \n",
              "std    1.118905e+00  1.417460e+08  \n",
              "min    1.000000e+00  1.000000e+02  \n",
              "25%    2.000000e+00  5.000000e+06  \n",
              "50%    3.000000e+00  1.400000e+07  \n",
              "75%    4.000000e+00  2.900000e+07  \n",
              "max    4.000000e+00  6.100000e+10  "
            ],
            "text/html": [
              "\n",
              "  <div id=\"df-0de9806b-2f2a-46d8-9201-9d7589cc52e0\" class=\"colab-df-container\">\n",
              "    <div>\n",
              "<style scoped>\n",
              "    .dataframe tbody tr th:only-of-type {\n",
              "        vertical-align: middle;\n",
              "    }\n",
              "\n",
              "    .dataframe tbody tr th {\n",
              "        vertical-align: top;\n",
              "    }\n",
              "\n",
              "    .dataframe thead th {\n",
              "        text-align: right;\n",
              "    }\n",
              "</style>\n",
              "<table border=\"1\" class=\"dataframe\">\n",
              "  <thead>\n",
              "    <tr style=\"text-align: right;\">\n",
              "      <th></th>\n",
              "      <th>No</th>\n",
              "      <th>MunicipalityCode</th>\n",
              "      <th>MinTimeToNearestStation</th>\n",
              "      <th>MaxTimeToNearestStation</th>\n",
              "      <th>Area</th>\n",
              "      <th>AreaIsGreaterFlag</th>\n",
              "      <th>UnitPrice</th>\n",
              "      <th>PricePerTsubo</th>\n",
              "      <th>Frontage</th>\n",
              "      <th>TotalFloorArea</th>\n",
              "      <th>TotalFloorAreaIsGreaterFlag</th>\n",
              "      <th>BuildingYear</th>\n",
              "      <th>PrewarBuilding</th>\n",
              "      <th>Breadth</th>\n",
              "      <th>CoverageRatio</th>\n",
              "      <th>FloorAreaRatio</th>\n",
              "      <th>Year</th>\n",
              "      <th>Quarter</th>\n",
              "      <th>TradePrice</th>\n",
              "    </tr>\n",
              "  </thead>\n",
              "  <tbody>\n",
              "    <tr>\n",
              "      <th>count</th>\n",
              "      <td>3.906518e+06</td>\n",
              "      <td>3.906518e+06</td>\n",
              "      <td>3.906518e+06</td>\n",
              "      <td>3.906518e+06</td>\n",
              "      <td>3.906518e+06</td>\n",
              "      <td>3.906518e+06</td>\n",
              "      <td>3.906518e+06</td>\n",
              "      <td>3.906518e+06</td>\n",
              "      <td>3.906518e+06</td>\n",
              "      <td>3.906518e+06</td>\n",
              "      <td>3.906518e+06</td>\n",
              "      <td>3.906518e+06</td>\n",
              "      <td>3.906518e+06</td>\n",
              "      <td>3.906518e+06</td>\n",
              "      <td>3.906518e+06</td>\n",
              "      <td>3.906518e+06</td>\n",
              "      <td>3.906518e+06</td>\n",
              "      <td>3.906518e+06</td>\n",
              "      <td>3.906518e+06</td>\n",
              "    </tr>\n",
              "    <tr>\n",
              "      <th>mean</th>\n",
              "      <td>7.835413e+04</td>\n",
              "      <td>2.046713e+04</td>\n",
              "      <td>1.917019e+01</td>\n",
              "      <td>2.262816e+01</td>\n",
              "      <td>4.674023e+02</td>\n",
              "      <td>3.749528e-02</td>\n",
              "      <td>3.017556e+04</td>\n",
              "      <td>9.972649e+04</td>\n",
              "      <td>9.507562e+00</td>\n",
              "      <td>5.907978e+01</td>\n",
              "      <td>2.924343e-03</td>\n",
              "      <td>9.561482e+02</td>\n",
              "      <td>9.860443e-04</td>\n",
              "      <td>4.670245e+00</td>\n",
              "      <td>4.984948e+01</td>\n",
              "      <td>1.707576e+02</td>\n",
              "      <td>2.012866e+03</td>\n",
              "      <td>2.519816e+00</td>\n",
              "      <td>2.760589e+07</td>\n",
              "    </tr>\n",
              "    <tr>\n",
              "      <th>std</th>\n",
              "      <td>8.017355e+04</td>\n",
              "      <td>1.217548e+04</td>\n",
              "      <td>2.275312e+01</td>\n",
              "      <td>2.726023e+01</td>\n",
              "      <td>8.476877e+02</td>\n",
              "      <td>1.899721e-01</td>\n",
              "      <td>1.083630e+05</td>\n",
              "      <td>3.578807e+05</td>\n",
              "      <td>1.056054e+01</td>\n",
              "      <td>1.704077e+02</td>\n",
              "      <td>5.399808e-02</td>\n",
              "      <td>9.958803e+02</td>\n",
              "      <td>3.138586e-02</td>\n",
              "      <td>4.967957e+00</td>\n",
              "      <td>2.526929e+01</td>\n",
              "      <td>1.264062e+02</td>\n",
              "      <td>3.678827e+00</td>\n",
              "      <td>1.118905e+00</td>\n",
              "      <td>1.417460e+08</td>\n",
              "    </tr>\n",
              "    <tr>\n",
              "      <th>min</th>\n",
              "      <td>1.000000e+00</td>\n",
              "      <td>1.101000e+03</td>\n",
              "      <td>0.000000e+00</td>\n",
              "      <td>0.000000e+00</td>\n",
              "      <td>1.000000e+01</td>\n",
              "      <td>0.000000e+00</td>\n",
              "      <td>0.000000e+00</td>\n",
              "      <td>0.000000e+00</td>\n",
              "      <td>0.000000e+00</td>\n",
              "      <td>0.000000e+00</td>\n",
              "      <td>0.000000e+00</td>\n",
              "      <td>2.000000e+00</td>\n",
              "      <td>0.000000e+00</td>\n",
              "      <td>0.000000e+00</td>\n",
              "      <td>0.000000e+00</td>\n",
              "      <td>0.000000e+00</td>\n",
              "      <td>2.005000e+03</td>\n",
              "      <td>1.000000e+00</td>\n",
              "      <td>1.000000e+02</td>\n",
              "    </tr>\n",
              "    <tr>\n",
              "      <th>25%</th>\n",
              "      <td>2.078000e+04</td>\n",
              "      <td>1.220400e+04</td>\n",
              "      <td>5.000000e+00</td>\n",
              "      <td>4.000000e+00</td>\n",
              "      <td>1.000000e+02</td>\n",
              "      <td>0.000000e+00</td>\n",
              "      <td>0.000000e+00</td>\n",
              "      <td>0.000000e+00</td>\n",
              "      <td>0.000000e+00</td>\n",
              "      <td>0.000000e+00</td>\n",
              "      <td>0.000000e+00</td>\n",
              "      <td>2.000000e+00</td>\n",
              "      <td>0.000000e+00</td>\n",
              "      <td>0.000000e+00</td>\n",
              "      <td>5.000000e+01</td>\n",
              "      <td>8.000000e+01</td>\n",
              "      <td>2.010000e+03</td>\n",
              "      <td>2.000000e+00</td>\n",
              "      <td>5.000000e+06</td>\n",
              "    </tr>\n",
              "    <tr>\n",
              "      <th>50%</th>\n",
              "      <td>4.815900e+04</td>\n",
              "      <td>1.721000e+04</td>\n",
              "      <td>1.300000e+01</td>\n",
              "      <td>1.200000e+01</td>\n",
              "      <td>1.850000e+02</td>\n",
              "      <td>0.000000e+00</td>\n",
              "      <td>0.000000e+00</td>\n",
              "      <td>0.000000e+00</td>\n",
              "      <td>8.100000e+00</td>\n",
              "      <td>0.000000e+00</td>\n",
              "      <td>0.000000e+00</td>\n",
              "      <td>2.000000e+00</td>\n",
              "      <td>0.000000e+00</td>\n",
              "      <td>4.500000e+00</td>\n",
              "      <td>6.000000e+01</td>\n",
              "      <td>2.000000e+02</td>\n",
              "      <td>2.013000e+03</td>\n",
              "      <td>3.000000e+00</td>\n",
              "      <td>1.400000e+07</td>\n",
              "    </tr>\n",
              "    <tr>\n",
              "      <th>75%</th>\n",
              "      <td>1.147330e+05</td>\n",
              "      <td>2.811000e+04</td>\n",
              "      <td>2.800000e+01</td>\n",
              "      <td>2.500000e+01</td>\n",
              "      <td>3.700000e+02</td>\n",
              "      <td>0.000000e+00</td>\n",
              "      <td>2.000000e+04</td>\n",
              "      <td>6.600000e+04</td>\n",
              "      <td>1.400000e+01</td>\n",
              "      <td>9.500000e+01</td>\n",
              "      <td>0.000000e+00</td>\n",
              "      <td>1.995000e+03</td>\n",
              "      <td>0.000000e+00</td>\n",
              "      <td>6.000000e+00</td>\n",
              "      <td>6.000000e+01</td>\n",
              "      <td>2.000000e+02</td>\n",
              "      <td>2.016000e+03</td>\n",
              "      <td>4.000000e+00</td>\n",
              "      <td>2.900000e+07</td>\n",
              "    </tr>\n",
              "    <tr>\n",
              "      <th>max</th>\n",
              "      <td>4.065750e+05</td>\n",
              "      <td>4.738200e+04</td>\n",
              "      <td>1.200000e+02</td>\n",
              "      <td>1.200000e+02</td>\n",
              "      <td>5.000000e+03</td>\n",
              "      <td>1.000000e+00</td>\n",
              "      <td>2.000000e+07</td>\n",
              "      <td>6.600000e+07</td>\n",
              "      <td>5.000000e+01</td>\n",
              "      <td>2.000000e+03</td>\n",
              "      <td>1.000000e+00</td>\n",
              "      <td>2.020000e+03</td>\n",
              "      <td>1.000000e+00</td>\n",
              "      <td>9.990000e+01</td>\n",
              "      <td>8.000000e+01</td>\n",
              "      <td>1.300000e+03</td>\n",
              "      <td>2.019000e+03</td>\n",
              "      <td>4.000000e+00</td>\n",
              "      <td>6.100000e+10</td>\n",
              "    </tr>\n",
              "  </tbody>\n",
              "</table>\n",
              "</div>\n",
              "    <div class=\"colab-df-buttons\">\n",
              "\n",
              "  <div class=\"colab-df-container\">\n",
              "    <button class=\"colab-df-convert\" onclick=\"convertToInteractive('df-0de9806b-2f2a-46d8-9201-9d7589cc52e0')\"\n",
              "            title=\"Convert this dataframe to an interactive table.\"\n",
              "            style=\"display:none;\">\n",
              "\n",
              "  <svg xmlns=\"http://www.w3.org/2000/svg\" height=\"24px\" viewBox=\"0 -960 960 960\">\n",
              "    <path d=\"M120-120v-720h720v720H120Zm60-500h600v-160H180v160Zm220 220h160v-160H400v160Zm0 220h160v-160H400v160ZM180-400h160v-160H180v160Zm440 0h160v-160H620v160ZM180-180h160v-160H180v160Zm440 0h160v-160H620v160Z\"/>\n",
              "  </svg>\n",
              "    </button>\n",
              "\n",
              "  <style>\n",
              "    .colab-df-container {\n",
              "      display:flex;\n",
              "      gap: 12px;\n",
              "    }\n",
              "\n",
              "    .colab-df-convert {\n",
              "      background-color: #E8F0FE;\n",
              "      border: none;\n",
              "      border-radius: 50%;\n",
              "      cursor: pointer;\n",
              "      display: none;\n",
              "      fill: #1967D2;\n",
              "      height: 32px;\n",
              "      padding: 0 0 0 0;\n",
              "      width: 32px;\n",
              "    }\n",
              "\n",
              "    .colab-df-convert:hover {\n",
              "      background-color: #E2EBFA;\n",
              "      box-shadow: 0px 1px 2px rgba(60, 64, 67, 0.3), 0px 1px 3px 1px rgba(60, 64, 67, 0.15);\n",
              "      fill: #174EA6;\n",
              "    }\n",
              "\n",
              "    .colab-df-buttons div {\n",
              "      margin-bottom: 4px;\n",
              "    }\n",
              "\n",
              "    [theme=dark] .colab-df-convert {\n",
              "      background-color: #3B4455;\n",
              "      fill: #D2E3FC;\n",
              "    }\n",
              "\n",
              "    [theme=dark] .colab-df-convert:hover {\n",
              "      background-color: #434B5C;\n",
              "      box-shadow: 0px 1px 3px 1px rgba(0, 0, 0, 0.15);\n",
              "      filter: drop-shadow(0px 1px 2px rgba(0, 0, 0, 0.3));\n",
              "      fill: #FFFFFF;\n",
              "    }\n",
              "  </style>\n",
              "\n",
              "    <script>\n",
              "      const buttonEl =\n",
              "        document.querySelector('#df-0de9806b-2f2a-46d8-9201-9d7589cc52e0 button.colab-df-convert');\n",
              "      buttonEl.style.display =\n",
              "        google.colab.kernel.accessAllowed ? 'block' : 'none';\n",
              "\n",
              "      async function convertToInteractive(key) {\n",
              "        const element = document.querySelector('#df-0de9806b-2f2a-46d8-9201-9d7589cc52e0');\n",
              "        const dataTable =\n",
              "          await google.colab.kernel.invokeFunction('convertToInteractive',\n",
              "                                                    [key], {});\n",
              "        if (!dataTable) return;\n",
              "\n",
              "        const docLinkHtml = 'Like what you see? Visit the ' +\n",
              "          '<a target=\"_blank\" href=https://colab.research.google.com/notebooks/data_table.ipynb>data table notebook</a>'\n",
              "          + ' to learn more about interactive tables.';\n",
              "        element.innerHTML = '';\n",
              "        dataTable['output_type'] = 'display_data';\n",
              "        await google.colab.output.renderOutput(dataTable, element);\n",
              "        const docLink = document.createElement('div');\n",
              "        docLink.innerHTML = docLinkHtml;\n",
              "        element.appendChild(docLink);\n",
              "      }\n",
              "    </script>\n",
              "  </div>\n",
              "\n",
              "\n",
              "<div id=\"df-21ab2f28-e3c6-446c-b618-bc1ec62747e5\">\n",
              "  <button class=\"colab-df-quickchart\" onclick=\"quickchart('df-21ab2f28-e3c6-446c-b618-bc1ec62747e5')\"\n",
              "            title=\"Suggest charts\"\n",
              "            style=\"display:none;\">\n",
              "\n",
              "<svg xmlns=\"http://www.w3.org/2000/svg\" height=\"24px\"viewBox=\"0 0 24 24\"\n",
              "     width=\"24px\">\n",
              "    <g>\n",
              "        <path d=\"M19 3H5c-1.1 0-2 .9-2 2v14c0 1.1.9 2 2 2h14c1.1 0 2-.9 2-2V5c0-1.1-.9-2-2-2zM9 17H7v-7h2v7zm4 0h-2V7h2v10zm4 0h-2v-4h2v4z\"/>\n",
              "    </g>\n",
              "</svg>\n",
              "  </button>\n",
              "\n",
              "<style>\n",
              "  .colab-df-quickchart {\n",
              "      --bg-color: #E8F0FE;\n",
              "      --fill-color: #1967D2;\n",
              "      --hover-bg-color: #E2EBFA;\n",
              "      --hover-fill-color: #174EA6;\n",
              "      --disabled-fill-color: #AAA;\n",
              "      --disabled-bg-color: #DDD;\n",
              "  }\n",
              "\n",
              "  [theme=dark] .colab-df-quickchart {\n",
              "      --bg-color: #3B4455;\n",
              "      --fill-color: #D2E3FC;\n",
              "      --hover-bg-color: #434B5C;\n",
              "      --hover-fill-color: #FFFFFF;\n",
              "      --disabled-bg-color: #3B4455;\n",
              "      --disabled-fill-color: #666;\n",
              "  }\n",
              "\n",
              "  .colab-df-quickchart {\n",
              "    background-color: var(--bg-color);\n",
              "    border: none;\n",
              "    border-radius: 50%;\n",
              "    cursor: pointer;\n",
              "    display: none;\n",
              "    fill: var(--fill-color);\n",
              "    height: 32px;\n",
              "    padding: 0;\n",
              "    width: 32px;\n",
              "  }\n",
              "\n",
              "  .colab-df-quickchart:hover {\n",
              "    background-color: var(--hover-bg-color);\n",
              "    box-shadow: 0 1px 2px rgba(60, 64, 67, 0.3), 0 1px 3px 1px rgba(60, 64, 67, 0.15);\n",
              "    fill: var(--button-hover-fill-color);\n",
              "  }\n",
              "\n",
              "  .colab-df-quickchart-complete:disabled,\n",
              "  .colab-df-quickchart-complete:disabled:hover {\n",
              "    background-color: var(--disabled-bg-color);\n",
              "    fill: var(--disabled-fill-color);\n",
              "    box-shadow: none;\n",
              "  }\n",
              "\n",
              "  .colab-df-spinner {\n",
              "    border: 2px solid var(--fill-color);\n",
              "    border-color: transparent;\n",
              "    border-bottom-color: var(--fill-color);\n",
              "    animation:\n",
              "      spin 1s steps(1) infinite;\n",
              "  }\n",
              "\n",
              "  @keyframes spin {\n",
              "    0% {\n",
              "      border-color: transparent;\n",
              "      border-bottom-color: var(--fill-color);\n",
              "      border-left-color: var(--fill-color);\n",
              "    }\n",
              "    20% {\n",
              "      border-color: transparent;\n",
              "      border-left-color: var(--fill-color);\n",
              "      border-top-color: var(--fill-color);\n",
              "    }\n",
              "    30% {\n",
              "      border-color: transparent;\n",
              "      border-left-color: var(--fill-color);\n",
              "      border-top-color: var(--fill-color);\n",
              "      border-right-color: var(--fill-color);\n",
              "    }\n",
              "    40% {\n",
              "      border-color: transparent;\n",
              "      border-right-color: var(--fill-color);\n",
              "      border-top-color: var(--fill-color);\n",
              "    }\n",
              "    60% {\n",
              "      border-color: transparent;\n",
              "      border-right-color: var(--fill-color);\n",
              "    }\n",
              "    80% {\n",
              "      border-color: transparent;\n",
              "      border-right-color: var(--fill-color);\n",
              "      border-bottom-color: var(--fill-color);\n",
              "    }\n",
              "    90% {\n",
              "      border-color: transparent;\n",
              "      border-bottom-color: var(--fill-color);\n",
              "    }\n",
              "  }\n",
              "</style>\n",
              "\n",
              "  <script>\n",
              "    async function quickchart(key) {\n",
              "      const quickchartButtonEl =\n",
              "        document.querySelector('#' + key + ' button');\n",
              "      quickchartButtonEl.disabled = true;  // To prevent multiple clicks.\n",
              "      quickchartButtonEl.classList.add('colab-df-spinner');\n",
              "      try {\n",
              "        const charts = await google.colab.kernel.invokeFunction(\n",
              "            'suggestCharts', [key], {});\n",
              "      } catch (error) {\n",
              "        console.error('Error during call to suggestCharts:', error);\n",
              "      }\n",
              "      quickchartButtonEl.classList.remove('colab-df-spinner');\n",
              "      quickchartButtonEl.classList.add('colab-df-quickchart-complete');\n",
              "    }\n",
              "    (() => {\n",
              "      let quickchartButtonEl =\n",
              "        document.querySelector('#df-21ab2f28-e3c6-446c-b618-bc1ec62747e5 button');\n",
              "      quickchartButtonEl.style.display =\n",
              "        google.colab.kernel.accessAllowed ? 'block' : 'none';\n",
              "    })();\n",
              "  </script>\n",
              "</div>\n",
              "\n",
              "    </div>\n",
              "  </div>\n"
            ],
            "application/vnd.google.colaboratory.intrinsic+json": {
              "type": "dataframe",
              "summary": "{\n  \"name\": \"df\",\n  \"rows\": 8,\n  \"fields\": [\n    {\n      \"column\": \"No\",\n      \"properties\": {\n        \"dtype\": \"number\",\n        \"std\": 1349375.4178328277,\n        \"min\": 1.0,\n        \"max\": 3906518.0,\n        \"num_unique_values\": 8,\n        \"samples\": [\n          78354.13423744624,\n          48159.0,\n          3906518.0\n        ],\n        \"semantic_type\": \"\",\n        \"description\": \"\"\n      }\n    },\n    {\n      \"column\": \"MunicipalityCode\",\n      \"properties\": {\n        \"dtype\": \"number\",\n        \"std\": 1374227.5214262293,\n        \"min\": 1101.0,\n        \"max\": 3906518.0,\n        \"num_unique_values\": 8,\n        \"samples\": [\n          20467.13164383218,\n          17210.0,\n          3906518.0\n        ],\n        \"semantic_type\": \"\",\n        \"description\": \"\"\n      }\n    },\n    {\n      \"column\": \"MinTimeToNearestStation\",\n      \"properties\": {\n        \"dtype\": \"number\",\n        \"std\": 1381152.1831225606,\n        \"min\": 0.0,\n        \"max\": 3906518.0,\n        \"num_unique_values\": 8,\n        \"samples\": [\n          19.170185315925846,\n          13.0,\n          3906518.0\n        ],\n        \"semantic_type\": \"\",\n        \"description\": \"\"\n      }\n    },\n    {\n      \"column\": \"MaxTimeToNearestStation\",\n      \"properties\": {\n        \"dtype\": \"number\",\n        \"std\": 1381152.0333631325,\n        \"min\": 0.0,\n        \"max\": 3906518.0,\n        \"num_unique_values\": 8,\n        \"samples\": [\n          22.62815991120481,\n          12.0,\n          3906518.0\n        ],\n        \"semantic_type\": \"\",\n        \"description\": \"\"\n      }\n    },\n    {\n      \"column\": \"Area\",\n      \"properties\": {\n        \"dtype\": \"number\",\n        \"std\": 1380811.1275623606,\n        \"min\": 10.0,\n        \"max\": 3906518.0,\n        \"num_unique_values\": 8,\n        \"samples\": [\n          467.40231710182826,\n          185.0,\n          3906518.0\n        ],\n        \"semantic_type\": \"\",\n        \"description\": \"\"\n      }\n    },\n    {\n      \"column\": \"AreaIsGreaterFlag\",\n      \"properties\": {\n        \"dtype\": \"number\",\n        \"std\": 1381162.6223172324,\n        \"min\": 0.0,\n        \"max\": 3906518.0,\n        \"num_unique_values\": 5,\n        \"samples\": [\n          0.03749528352358801,\n          1.0,\n          0.18997209393836098\n        ],\n        \"semantic_type\": \"\",\n        \"description\": \"\"\n      }\n    },\n    {\n      \"column\": \"UnitPrice\",\n      \"properties\": {\n        \"dtype\": \"number\",\n        \"std\": 6998806.7080238415,\n        \"min\": 0.0,\n        \"max\": 20000000.0,\n        \"num_unique_values\": 6,\n        \"samples\": [\n          3906518.0,\n          30175.55916522079,\n          20000000.0\n        ],\n        \"semantic_type\": \"\",\n        \"description\": \"\"\n      }\n    },\n    {\n      \"column\": \"PricePerTsubo\",\n      \"properties\": {\n        \"dtype\": \"number\",\n        \"std\": 23149677.39894008,\n        \"min\": 0.0,\n        \"max\": 66000000.0,\n        \"num_unique_values\": 6,\n        \"samples\": [\n          3906518.0,\n          99726.49065945683,\n          66000000.0\n        ],\n        \"semantic_type\": \"\",\n        \"description\": \"\"\n      }\n    },\n    {\n      \"column\": \"Frontage\",\n      \"properties\": {\n        \"dtype\": \"number\",\n        \"std\": 1381158.029211884,\n        \"min\": 0.0,\n        \"max\": 3906518.0,\n        \"num_unique_values\": 7,\n        \"samples\": [\n          3906518.0,\n          9.507562233170319,\n          14.0\n        ],\n        \"semantic_type\": \"\",\n        \"description\": \"\"\n      }\n    },\n    {\n      \"column\": \"TotalFloorArea\",\n      \"properties\": {\n        \"dtype\": \"number\",\n        \"std\": 1381045.449074323,\n        \"min\": 0.0,\n        \"max\": 3906518.0,\n        \"num_unique_values\": 6,\n        \"samples\": [\n          3906518.0,\n          59.079784094172865,\n          2000.0\n        ],\n        \"semantic_type\": \"\",\n        \"description\": \"\"\n      }\n    },\n    {\n      \"column\": \"TotalFloorAreaIsGreaterFlag\",\n      \"properties\": {\n        \"dtype\": \"number\",\n        \"std\": 1381162.6309310547,\n        \"min\": 0.0,\n        \"max\": 3906518.0,\n        \"num_unique_values\": 5,\n        \"samples\": [\n          0.0029243433666503007,\n          1.0,\n          0.05399807708535419\n        ],\n        \"semantic_type\": \"\",\n        \"description\": \"\"\n      }\n    },\n    {\n      \"column\": \"BuildingYear\",\n      \"properties\": {\n        \"dtype\": \"number\",\n        \"std\": 1380861.2527145657,\n        \"min\": 2.0,\n        \"max\": 3906518.0,\n        \"num_unique_values\": 6,\n        \"samples\": [\n          3906518.0,\n          956.1481918168558,\n          2020.0\n        ],\n        \"semantic_type\": \"\",\n        \"description\": \"\"\n      }\n    },\n    {\n      \"column\": \"PrewarBuilding\",\n      \"properties\": {\n        \"dtype\": \"number\",\n        \"std\": 1381162.6321710432,\n        \"min\": 0.0,\n        \"max\": 3906518.0,\n        \"num_unique_values\": 5,\n        \"samples\": [\n          0.0009860443494692716,\n          1.0,\n          0.03138586175607363\n        ],\n        \"semantic_type\": \"\",\n        \"description\": \"\"\n      }\n    },\n    {\n      \"column\": \"Breadth\",\n      \"properties\": {\n        \"dtype\": \"number\",\n        \"std\": 1381156.6218839127,\n        \"min\": 0.0,\n        \"max\": 3906518.0,\n        \"num_unique_values\": 7,\n        \"samples\": [\n          3906518.0,\n          4.670244524663655,\n          6.0\n        ],\n        \"semantic_type\": \"\",\n        \"description\": \"\"\n      }\n    },\n    {\n      \"column\": \"CoverageRatio\",\n      \"properties\": {\n        \"dtype\": \"number\",\n        \"std\": 1381146.263548831,\n        \"min\": 0.0,\n        \"max\": 3906518.0,\n        \"num_unique_values\": 7,\n        \"samples\": [\n          3906518.0,\n          49.84948488654091,\n          60.0\n        ],\n        \"semantic_type\": \"\",\n        \"description\": \"\"\n      }\n    },\n    {\n      \"column\": \"FloorAreaRatio\",\n      \"properties\": {\n        \"dtype\": \"number\",\n        \"std\": 1381057.8340298303,\n        \"min\": 0.0,\n        \"max\": 3906518.0,\n        \"num_unique_values\": 7,\n        \"samples\": [\n          3906518.0,\n          170.75757490430095,\n          200.0\n        ],\n        \"semantic_type\": \"\",\n        \"description\": \"\"\n      }\n    },\n    {\n      \"column\": \"Year\",\n      \"properties\": {\n        \"dtype\": \"number\",\n        \"std\": 1380552.7541631274,\n        \"min\": 3.678826547719482,\n        \"max\": 3906518.0,\n        \"num_unique_values\": 8,\n        \"samples\": [\n          2012.8658936167708,\n          2013.0,\n          3906518.0\n        ],\n        \"semantic_type\": \"\",\n        \"description\": \"\"\n      }\n    },\n    {\n      \"column\": \"Quarter\",\n      \"properties\": {\n        \"dtype\": \"number\",\n        \"std\": 1381161.7934241556,\n        \"min\": 1.0,\n        \"max\": 3906518.0,\n        \"num_unique_values\": 7,\n        \"samples\": [\n          3906518.0,\n          2.5198161124561564,\n          3.0\n        ],\n        \"semantic_type\": \"\",\n        \"description\": \"\"\n      }\n    },\n    {\n      \"column\": \"TradePrice\",\n      \"properties\": {\n        \"dtype\": \"number\",\n        \"std\": 21555631084.383007,\n        \"min\": 100.0,\n        \"max\": 61000000000.0,\n        \"num_unique_values\": 8,\n        \"samples\": [\n          27605894.582518242,\n          14000000.0,\n          3906518.0\n        ],\n        \"semantic_type\": \"\",\n        \"description\": \"\"\n      }\n    }\n  ]\n}"
            }
          },
          "metadata": {},
          "execution_count": 21
        }
      ],
      "source": [
        "df.describe()"
      ]
    },
    {
      "cell_type": "code",
      "execution_count": null,
      "metadata": {
        "colab": {
          "base_uri": "https://localhost:8080/",
          "height": 53
        },
        "id": "C-VoYVEgBrBS",
        "outputId": "0bea0398-477a-4f90-a53b-21abcacec1ed"
      },
      "outputs": [
        {
          "output_type": "execute_result",
          "data": {
            "text/plain": [
              "\"tamanho_antes = len(df)\\nprint(tamanho_antes)\\ndf.drop_duplicates(inplace=True, ignore_index=True)\\ntamanho_depois = len(df)\\nprint(tamanho_depois)\\nprint(tamanho_antes - tamanho_depois, 'Linhas a menos que estavam duplicadas')\""
            ],
            "application/vnd.google.colaboratory.intrinsic+json": {
              "type": "string"
            }
          },
          "metadata": {},
          "execution_count": 22
        }
      ],
      "source": [
        "'''tamanho_antes = len(df)\n",
        "print(tamanho_antes)\n",
        "df.drop_duplicates(inplace=True, ignore_index=True)\n",
        "tamanho_depois = len(df)\n",
        "print(tamanho_depois)\n",
        "print(tamanho_antes - tamanho_depois, 'Linhas a menos que estavam duplicadas')'''"
      ]
    },
    {
      "cell_type": "code",
      "execution_count": 15,
      "metadata": {
        "id": "7d6TnHXFBrBT"
      },
      "outputs": [],
      "source": [
        "mask = np.random.rand(len(df)) < 0.8\n",
        "\n",
        "df_treino = df[mask]\n",
        "df_teste = df[~mask]"
      ]
    },
    {
      "cell_type": "markdown",
      "metadata": {
        "id": "klMTvuQOBrBV"
      },
      "source": [
        "### Visualizações"
      ]
    },
    {
      "cell_type": "code",
      "execution_count": 16,
      "metadata": {
        "id": "CQmk521YBrBW"
      },
      "outputs": [],
      "source": [
        "import plotly.express as px\n",
        "import plotly.io as pio"
      ]
    },
    {
      "cell_type": "code",
      "execution_count": null,
      "metadata": {
        "colab": {
          "base_uri": "https://localhost:8080/",
          "height": 506
        },
        "id": "89G8ZfbGBrBX",
        "outputId": "94f64868-37c7-4265-dda9-1da0b0776811"
      },
      "outputs": [
        {
          "output_type": "display_data",
          "data": {
            "text/plain": [
              "<Figure size 1000x500 with 6 Axes>"
            ],
            "image/png": "[encoded data removed]"
          },
          "metadata": {}
        }
      ],
      "source": [
        "# Outlier Analysis\n",
        "fig, axs = plt.subplots(2,3, figsize = (10,5))\n",
        "plt1 = sns.boxplot(df_treino['TradePrice'], ax = axs[0,0])\n",
        "plt2 = sns.boxplot(df_treino['Area'], ax = axs[0,1])\n",
        "plt3 = sns.boxplot(df_treino['MinTimeToNearestStation'], ax = axs[0,2])\n",
        "plt1 = sns.boxplot(df_treino['MaxTimeToNearestStation'], ax = axs[1,0])\n",
        "plt2 = sns.boxplot(df_treino['BuildingYear'], ax = axs[1,1])\n",
        "plt3 = sns.boxplot(df_treino['Year'], ax = axs[1,2])\n",
        "\n",
        "plt.tight_layout()"
      ]
    },
    {
      "cell_type": "code",
      "execution_count": 17,
      "metadata": {
        "id": "3NWL0DGBPiIf"
      },
      "outputs": [],
      "source": [
        "Q1 = df_treino['TradePrice'].quantile(0.25)\n",
        "Q3 = df_treino['TradePrice'].quantile(0.75)\n",
        "\n",
        "# Calcula o Intervalo Interquartil (IQR)\n",
        "IQR = Q3 - Q1\n",
        "\n",
        "limite_inferior = max(Q1 - 1.5 * IQR, 0)  # Garantir que o limite inferior não seja negativo\n",
        "limite_superior = Q3 + 1.5 * IQR\n",
        "\n",
        "df_treino_sem_outliers = df_treino[(df_treino['TradePrice'] >= limite_inferior) & (df_treino['TradePrice'] <= limite_superior)]\n"
      ]
    },
    {
      "cell_type": "code",
      "execution_count": null,
      "metadata": {
        "colab": {
          "base_uri": "https://localhost:8080/"
        },
        "id": "euO3kDtPaQrq",
        "outputId": "8d89353c-4d34-4dde-8ca7-bef618aee759"
      },
      "outputs": [
        {
          "output_type": "stream",
          "name": "stdout",
          "text": [
            "5000000.0\n",
            "29000000.0\n",
            "24000000.0\n",
            "0\n",
            "65000000.0\n"
          ]
        }
      ],
      "source": [
        "print(Q1)\n",
        "print(Q3)\n",
        "print(IQR)\n",
        "print(limite_inferior)\n",
        "print(limite_superior)"
      ]
    },
    {
      "cell_type": "code",
      "execution_count": 18,
      "metadata": {
        "colab": {
          "base_uri": "https://localhost:8080/",
          "height": 482
        },
        "id": "S9f6WI5gUViC",
        "outputId": "6e91153b-2e41-4867-f80e-64525b374870"
      },
      "outputs": [
        {
          "output_type": "execute_result",
          "data": {
            "text/plain": [
              "<Axes: xlabel='BuildingYear', ylabel='TradePrice'>"
            ]
          },
          "metadata": {},
          "execution_count": 18
        },
        {
          "output_type": "display_data",
          "data": {
            "text/plain": [
              "<Figure size 640x480 with 1 Axes>"
            ],
            "image/png": "[encoded data removed]"
          },
          "metadata": {}
        }
      ],
      "source": [
        "df_treino_sem_outliers_ano = df_treino_sem_outliers.query('BuildingYear > 500')\n",
        "sns.scatterplot(data=df_treino_sem_outliers_ano, x=\"BuildingYear\", y=\"TradePrice\")"
      ]
    },
    {
      "cell_type": "code",
      "execution_count": null,
      "metadata": {
        "colab": {
          "base_uri": "https://localhost:8080/",
          "height": 611
        },
        "id": "jgifSvUl01pS",
        "outputId": "85af7788-e17b-45e1-c673-089fe392e304"
      },
      "outputs": [
        {
          "output_type": "stream",
          "name": "stdout",
          "text": [
            "PrewarBuilding\n",
            "Antes da Guerra     2950354\n",
            "Depois da Guerra       2897\n",
            "Name: count, dtype: int64\n"
          ]
        },
        {
          "output_type": "display_data",
          "data": {
            "text/html": [
              "<html>\n",
              "<head><meta charset=\"utf-8\" /></head>\n",
              "<body>\n",
              "    <div>            <script src=\"https://cdnjs.cloudflare.com/ajax/libs/mathjax/2.7.5/MathJax.js?config=TeX-AMS-MML_SVG\"></script><script type=\"text/javascript\">if (window.MathJax && window.MathJax.Hub && window.MathJax.Hub.Config) {window.MathJax.Hub.Config({SVG: {font: \"STIX-Web\"}});}</script>                <script type=\"text/javascript\">window.PlotlyConfig = {MathJaxConfig: 'local'};</script>\n",
              "        <script charset=\"utf-8\" src=\"https://cdn.plot.ly/plotly-2.24.1.min.js\"></script>                <div id=\"cabed33d-6c22-4abb-9cec-fcc203b1ee7e\" class=\"plotly-graph-div\" style=\"height:525px; width:100%;\"></div>            <script type=\"text/javascript\">                                    window.PLOTLYENV=window.PLOTLYENV || {};                                    if (document.getElementById(\"cabed33d-6c22-4abb-9cec-fcc203b1ee7e\")) {                    Plotly.newPlot(                        \"cabed33d-6c22-4abb-9cec-fcc203b1ee7e\",                        [{\"alignmentgroup\":\"True\",\"hovertemplate\":\"PrewarBuilding=%{x}\\u003cbr\\u003eContagem=%{y}\\u003cextra\\u003e\\u003c\\u002fextra\\u003e\",\"legendgroup\":\"Antes da Guerra\",\"marker\":{\"color\":\"#636efa\",\"pattern\":{\"shape\":\"\"}},\"name\":\"Antes da Guerra\",\"offsetgroup\":\"Antes da Guerra\",\"orientation\":\"v\",\"showlegend\":true,\"textposition\":\"auto\",\"x\":[\"Antes da Guerra\"],\"xaxis\":\"x\",\"y\":[2950354],\"yaxis\":\"y\",\"type\":\"bar\"},{\"alignmentgroup\":\"True\",\"hovertemplate\":\"PrewarBuilding=%{x}\\u003cbr\\u003eContagem=%{y}\\u003cextra\\u003e\\u003c\\u002fextra\\u003e\",\"legendgroup\":\"Depois da Guerra\",\"marker\":{\"color\":\"#EF553B\",\"pattern\":{\"shape\":\"\"}},\"name\":\"Depois da Guerra\",\"offsetgroup\":\"Depois da Guerra\",\"orientation\":\"v\",\"showlegend\":true,\"textposition\":\"auto\",\"x\":[\"Depois da Guerra\"],\"xaxis\":\"x\",\"y\":[2897],\"yaxis\":\"y\",\"type\":\"bar\"}],                        {\"template\":{\"data\":{\"histogram2dcontour\":[{\"type\":\"histogram2dcontour\",\"colorbar\":{\"outlinewidth\":0,\"ticks\":\"\"},\"colorscale\":[[0.0,\"#0d0887\"],[0.1111111111111111,\"#46039f\"],[0.2222222222222222,\"#7201a8\"],[0.3333333333333333,\"#9c179e\"],[0.4444444444444444,\"#bd3786\"],[0.5555555555555556,\"#d8576b\"],[0.6666666666666666,\"#ed7953\"],[0.7777777777777778,\"#fb9f3a\"],[0.8888888888888888,\"#fdca26\"],[1.0,\"#f0f921\"]]}],\"choropleth\":[{\"type\":\"choropleth\",\"colorbar\":{\"outlinewidth\":0,\"ticks\":\"\"}}],\"histogram2d\":[{\"type\":\"histogram2d\",\"colorbar\":{\"outlinewidth\":0,\"ticks\":\"\"},\"colorscale\":[[0.0,\"#0d0887\"],[0.1111111111111111,\"#46039f\"],[0.2222222222222222,\"#7201a8\"],[0.3333333333333333,\"#9c179e\"],[0.4444444444444444,\"#bd3786\"],[0.5555555555555556,\"#d8576b\"],[0.6666666666666666,\"#ed7953\"],[0.7777777777777778,\"#fb9f3a\"],[0.8888888888888888,\"#fdca26\"],[1.0,\"#f0f921\"]]}],\"heatmap\":[{\"type\":\"heatmap\",\"colorbar\":{\"outlinewidth\":0,\"ticks\":\"\"},\"colorscale\":[[0.0,\"#0d0887\"],[0.1111111111111111,\"#46039f\"],[0.2222222222222222,\"#7201a8\"],[0.3333333333333333,\"#9c179e\"],[0.4444444444444444,\"#bd3786\"],[0.5555555555555556,\"#d8576b\"],[0.6666666666666666,\"#ed7953\"],[0.7777777777777778,\"#fb9f3a\"],[0.8888888888888888,\"#fdca26\"],[1.0,\"#f0f921\"]]}],\"heatmapgl\":[{\"type\":\"heatmapgl\",\"colorbar\":{\"outlinewidth\":0,\"ticks\":\"\"},\"colorscale\":[[0.0,\"#0d0887\"],[0.1111111111111111,\"#46039f\"],[0.2222222222222222,\"#7201a8\"],[0.3333333333333333,\"#9c179e\"],[0.4444444444444444,\"#bd3786\"],[0.5555555555555556,\"#d8576b\"],[0.6666666666666666,\"#ed7953\"],[0.7777777777777778,\"#fb9f3a\"],[0.8888888888888888,\"#fdca26\"],[1.0,\"#f0f921\"]]}],\"contourcarpet\":[{\"type\":\"contourcarpet\",\"colorbar\":{\"outlinewidth\":0,\"ticks\":\"\"}}],\"contour\":[{\"type\":\"contour\",\"colorbar\":{\"outlinewidth\":0,\"ticks\":\"\"},\"colorscale\":[[0.0,\"#0d0887\"],[0.1111111111111111,\"#46039f\"],[0.2222222222222222,\"#7201a8\"],[0.3333333333333333,\"#9c179e\"],[0.4444444444444444,\"#bd3786\"],[0.5555555555555556,\"#d8576b\"],[0.6666666666666666,\"#ed7953\"],[0.7777777777777778,\"#fb9f3a\"],[0.8888888888888888,\"#fdca26\"],[1.0,\"#f0f921\"]]}],\"surface\":[{\"type\":\"surface\",\"colorbar\":{\"outlinewidth\":0,\"ticks\":\"\"},\"colorscale\":[[0.0,\"#0d0887\"],[0.1111111111111111,\"#46039f\"],[0.2222222222222222,\"#7201a8\"],[0.3333333333333333,\"#9c179e\"],[0.4444444444444444,\"#bd3786\"],[0.5555555555555556,\"#d8576b\"],[0.6666666666666666,\"#ed7953\"],[0.7777777777777778,\"#fb9f3a\"],[0.8888888888888888,\"#fdca26\"],[1.0,\"#f0f921\"]]}],\"mesh3d\":[{\"type\":\"mesh3d\",\"colorbar\":{\"outlinewidth\":0,\"ticks\":\"\"}}],\"scatter\":[{\"fillpattern\":{\"fillmode\":\"overlay\",\"size\":10,\"solidity\":0.2},\"type\":\"scatter\"}],\"parcoords\":[{\"type\":\"parcoords\",\"line\":{\"colorbar\":{\"outlinewidth\":0,\"ticks\":\"\"}}}],\"scatterpolargl\":[{\"type\":\"scatterpolargl\",\"marker\":{\"colorbar\":{\"outlinewidth\":0,\"ticks\":\"\"}}}],\"bar\":[{\"error_x\":{\"color\":\"#2a3f5f\"},\"error_y\":{\"color\":\"#2a3f5f\"},\"marker\":{\"line\":{\"color\":\"#E5ECF6\",\"width\":0.5},\"pattern\":{\"fillmode\":\"overlay\",\"size\":10,\"solidity\":0.2}},\"type\":\"bar\"}],\"scattergeo\":[{\"type\":\"scattergeo\",\"marker\":{\"colorbar\":{\"outlinewidth\":0,\"ticks\":\"\"}}}],\"scatterpolar\":[{\"type\":\"scatterpolar\",\"marker\":{\"colorbar\":{\"outlinewidth\":0,\"ticks\":\"\"}}}],\"histogram\":[{\"marker\":{\"pattern\":{\"fillmode\":\"overlay\",\"size\":10,\"solidity\":0.2}},\"type\":\"histogram\"}],\"scattergl\":[{\"type\":\"scattergl\",\"marker\":{\"colorbar\":{\"outlinewidth\":0,\"ticks\":\"\"}}}],\"scatter3d\":[{\"type\":\"scatter3d\",\"line\":{\"colorbar\":{\"outlinewidth\":0,\"ticks\":\"\"}},\"marker\":{\"colorbar\":{\"outlinewidth\":0,\"ticks\":\"\"}}}],\"scattermapbox\":[{\"type\":\"scattermapbox\",\"marker\":{\"colorbar\":{\"outlinewidth\":0,\"ticks\":\"\"}}}],\"scatterternary\":[{\"type\":\"scatterternary\",\"marker\":{\"colorbar\":{\"outlinewidth\":0,\"ticks\":\"\"}}}],\"scattercarpet\":[{\"type\":\"scattercarpet\",\"marker\":{\"colorbar\":{\"outlinewidth\":0,\"ticks\":\"\"}}}],\"carpet\":[{\"aaxis\":{\"endlinecolor\":\"#2a3f5f\",\"gridcolor\":\"white\",\"linecolor\":\"white\",\"minorgridcolor\":\"white\",\"startlinecolor\":\"#2a3f5f\"},\"baxis\":{\"endlinecolor\":\"#2a3f5f\",\"gridcolor\":\"white\",\"linecolor\":\"white\",\"minorgridcolor\":\"white\",\"startlinecolor\":\"#2a3f5f\"},\"type\":\"carpet\"}],\"table\":[{\"cells\":{\"fill\":{\"color\":\"#EBF0F8\"},\"line\":{\"color\":\"white\"}},\"header\":{\"fill\":{\"color\":\"#C8D4E3\"},\"line\":{\"color\":\"white\"}},\"type\":\"table\"}],\"barpolar\":[{\"marker\":{\"line\":{\"color\":\"#E5ECF6\",\"width\":0.5},\"pattern\":{\"fillmode\":\"overlay\",\"size\":10,\"solidity\":0.2}},\"type\":\"barpolar\"}],\"pie\":[{\"automargin\":true,\"type\":\"pie\"}]},\"layout\":{\"autotypenumbers\":\"strict\",\"colorway\":[\"#636efa\",\"#EF553B\",\"#00cc96\",\"#ab63fa\",\"#FFA15A\",\"#19d3f3\",\"#FF6692\",\"#B6E880\",\"#FF97FF\",\"#FECB52\"],\"font\":{\"color\":\"#2a3f5f\"},\"hovermode\":\"closest\",\"hoverlabel\":{\"align\":\"left\"},\"paper_bgcolor\":\"white\",\"plot_bgcolor\":\"#E5ECF6\",\"polar\":{\"bgcolor\":\"#E5ECF6\",\"angularaxis\":{\"gridcolor\":\"white\",\"linecolor\":\"white\",\"ticks\":\"\"},\"radialaxis\":{\"gridcolor\":\"white\",\"linecolor\":\"white\",\"ticks\":\"\"}},\"ternary\":{\"bgcolor\":\"#E5ECF6\",\"aaxis\":{\"gridcolor\":\"white\",\"linecolor\":\"white\",\"ticks\":\"\"},\"baxis\":{\"gridcolor\":\"white\",\"linecolor\":\"white\",\"ticks\":\"\"},\"caxis\":{\"gridcolor\":\"white\",\"linecolor\":\"white\",\"ticks\":\"\"}},\"coloraxis\":{\"colorbar\":{\"outlinewidth\":0,\"ticks\":\"\"}},\"colorscale\":{\"sequential\":[[0.0,\"#0d0887\"],[0.1111111111111111,\"#46039f\"],[0.2222222222222222,\"#7201a8\"],[0.3333333333333333,\"#9c179e\"],[0.4444444444444444,\"#bd3786\"],[0.5555555555555556,\"#d8576b\"],[0.6666666666666666,\"#ed7953\"],[0.7777777777777778,\"#fb9f3a\"],[0.8888888888888888,\"#fdca26\"],[1.0,\"#f0f921\"]],\"sequentialminus\":[[0.0,\"#0d0887\"],[0.1111111111111111,\"#46039f\"],[0.2222222222222222,\"#7201a8\"],[0.3333333333333333,\"#9c179e\"],[0.4444444444444444,\"#bd3786\"],[0.5555555555555556,\"#d8576b\"],[0.6666666666666666,\"#ed7953\"],[0.7777777777777778,\"#fb9f3a\"],[0.8888888888888888,\"#fdca26\"],[1.0,\"#f0f921\"]],\"diverging\":[[0,\"#8e0152\"],[0.1,\"#c51b7d\"],[0.2,\"#de77ae\"],[0.3,\"#f1b6da\"],[0.4,\"#fde0ef\"],[0.5,\"#f7f7f7\"],[0.6,\"#e6f5d0\"],[0.7,\"#b8e186\"],[0.8,\"#7fbc41\"],[0.9,\"#4d9221\"],[1,\"#276419\"]]},\"xaxis\":{\"gridcolor\":\"white\",\"linecolor\":\"white\",\"ticks\":\"\",\"title\":{\"standoff\":15},\"zerolinecolor\":\"white\",\"automargin\":true,\"zerolinewidth\":2},\"yaxis\":{\"gridcolor\":\"white\",\"linecolor\":\"white\",\"ticks\":\"\",\"title\":{\"standoff\":15},\"zerolinecolor\":\"white\",\"automargin\":true,\"zerolinewidth\":2},\"scene\":{\"xaxis\":{\"backgroundcolor\":\"#E5ECF6\",\"gridcolor\":\"white\",\"linecolor\":\"white\",\"showbackground\":true,\"ticks\":\"\",\"zerolinecolor\":\"white\",\"gridwidth\":2},\"yaxis\":{\"backgroundcolor\":\"#E5ECF6\",\"gridcolor\":\"white\",\"linecolor\":\"white\",\"showbackground\":true,\"ticks\":\"\",\"zerolinecolor\":\"white\",\"gridwidth\":2},\"zaxis\":{\"backgroundcolor\":\"#E5ECF6\",\"gridcolor\":\"white\",\"linecolor\":\"white\",\"showbackground\":true,\"ticks\":\"\",\"zerolinecolor\":\"white\",\"gridwidth\":2}},\"shapedefaults\":{\"line\":{\"color\":\"#2a3f5f\"}},\"annotationdefaults\":{\"arrowcolor\":\"#2a3f5f\",\"arrowhead\":0,\"arrowwidth\":1},\"geo\":{\"bgcolor\":\"white\",\"landcolor\":\"#E5ECF6\",\"subunitcolor\":\"white\",\"showland\":true,\"showlakes\":true,\"lakecolor\":\"white\"},\"title\":{\"x\":0.05},\"mapbox\":{\"style\":\"light\"}}},\"xaxis\":{\"anchor\":\"y\",\"domain\":[0.0,1.0],\"title\":{\"text\":\"PrewarBuilding\"},\"categoryorder\":\"array\",\"categoryarray\":[\"Antes da Guerra\",\"Depois da Guerra\"]},\"yaxis\":{\"anchor\":\"x\",\"domain\":[0.0,1.0],\"title\":{\"text\":\"Contagem\"}},\"legend\":{\"title\":{\"text\":\"PrewarBuilding\"},\"tracegroupgap\":0},\"margin\":{\"t\":60},\"barmode\":\"relative\"},                        {\"responsive\": true}                    ).then(function(){\n",
              "                            \n",
              "var gd = document.getElementById('cabed33d-6c22-4abb-9cec-fcc203b1ee7e');\n",
              "var x = new MutationObserver(function (mutations, observer) {{\n",
              "        var display = window.getComputedStyle(gd).display;\n",
              "        if (!display || display === 'none') {{\n",
              "            console.log([gd, 'removed!']);\n",
              "            Plotly.purge(gd);\n",
              "            observer.disconnect();\n",
              "        }}\n",
              "}});\n",
              "\n",
              "// Listen for the removal of the full notebook cells\n",
              "var notebookContainer = gd.closest('#notebook-container');\n",
              "if (notebookContainer) {{\n",
              "    x.observe(notebookContainer, {childList: true});\n",
              "}}\n",
              "\n",
              "// Listen for the clearing of the current output cell\n",
              "var outputEl = gd.closest('.output');\n",
              "if (outputEl) {{\n",
              "    x.observe(outputEl, {childList: true});\n",
              "}}\n",
              "\n",
              "                        })                };                            </script>        </div>\n",
              "</body>\n",
              "</html>"
            ]
          },
          "metadata": {}
        }
      ],
      "source": [
        "dict_war = {0: 'Antes da Guerra'  , 1: 'Depois da Guerra', 2: 'Não Definido'}\n",
        "df_treino_sem_outliers['PrewarBuilding'] = df_treino_sem_outliers['PrewarBuilding'].map(dict_war)\n",
        "df_war = df_treino_sem_outliers.query('PrewarBuilding != \"Não Definido\"')\n",
        "count_guerra = df_war['PrewarBuilding'].value_counts().reset_index()\n",
        "count_guerra.columns = ['PrewarBuilding', 'Contagem']\n",
        "\n",
        "fig = px.bar(count_guerra, x='PrewarBuilding', y='Contagem', color='PrewarBuilding')\n",
        "print(df_treino_sem_outliers['PrewarBuilding'].value_counts())\n",
        "fig.show()"
      ]
    },
    {
      "cell_type": "markdown",
      "metadata": {
        "id": "gpo9SmwzBrBZ"
      },
      "source": [
        "Qual a disposição das regiões onde estão os imoveis?"
      ]
    },
    {
      "cell_type": "code",
      "execution_count": null,
      "metadata": {
        "colab": {
          "base_uri": "https://localhost:8080/",
          "height": 542
        },
        "id": "dtgLXK5wBrBa",
        "outputId": "f3b63236-2c30-48fd-b435-0201f78e8c66"
      },
      "outputs": [
        {
          "output_type": "display_data",
          "data": {
            "text/html": [
              "<html>\n",
              "<head><meta charset=\"utf-8\" /></head>\n",
              "<body>\n",
              "    <div>            <script src=\"https://cdnjs.cloudflare.com/ajax/libs/mathjax/2.7.5/MathJax.js?config=TeX-AMS-MML_SVG\"></script><script type=\"text/javascript\">if (window.MathJax && window.MathJax.Hub && window.MathJax.Hub.Config) {window.MathJax.Hub.Config({SVG: {font: \"STIX-Web\"}});}</script>                <script type=\"text/javascript\">window.PlotlyConfig = {MathJaxConfig: 'local'};</script>\n",
              "        <script charset=\"utf-8\" src=\"https://cdn.plot.ly/plotly-2.24.1.min.js\"></script>                <div id=\"3ee82a26-cf43-4fe1-ab79-821cda78caac\" class=\"plotly-graph-div\" style=\"height:525px; width:100%;\"></div>            <script type=\"text/javascript\">                                    window.PLOTLYENV=window.PLOTLYENV || {};                                    if (document.getElementById(\"3ee82a26-cf43-4fe1-ab79-821cda78caac\")) {                    Plotly.newPlot(                        \"3ee82a26-cf43-4fe1-ab79-821cda78caac\",                        [{\"alignmentgroup\":\"True\",\"hovertemplate\":\"Region=%{x}\\u003cbr\\u003eContagem=%{y}\\u003cextra\\u003e\\u003c\\u002fextra\\u003e\",\"legendgroup\":\"Residential Area\",\"marker\":{\"color\":\"#636efa\",\"pattern\":{\"shape\":\"\"}},\"name\":\"Residential Area\",\"offsetgroup\":\"Residential Area\",\"orientation\":\"v\",\"showlegend\":true,\"textposition\":\"auto\",\"x\":[\"Residential Area\"],\"xaxis\":\"x\",\"y\":[1819956],\"yaxis\":\"y\",\"type\":\"bar\"},{\"alignmentgroup\":\"True\",\"hovertemplate\":\"Region=%{x}\\u003cbr\\u003eContagem=%{y}\\u003cextra\\u003e\\u003c\\u002fextra\\u003e\",\"legendgroup\":\"Not defined\",\"marker\":{\"color\":\"#EF553B\",\"pattern\":{\"shape\":\"\"}},\"name\":\"Not defined\",\"offsetgroup\":\"Not defined\",\"orientation\":\"v\",\"showlegend\":true,\"textposition\":\"auto\",\"x\":[\"Not defined\"],\"xaxis\":\"x\",\"y\":[882130],\"yaxis\":\"y\",\"type\":\"bar\"},{\"alignmentgroup\":\"True\",\"hovertemplate\":\"Region=%{x}\\u003cbr\\u003eContagem=%{y}\\u003cextra\\u003e\\u003c\\u002fextra\\u003e\",\"legendgroup\":\"Commercial Area\",\"marker\":{\"color\":\"#00cc96\",\"pattern\":{\"shape\":\"\"}},\"name\":\"Commercial Area\",\"offsetgroup\":\"Commercial Area\",\"orientation\":\"v\",\"showlegend\":true,\"textposition\":\"auto\",\"x\":[\"Commercial Area\"],\"xaxis\":\"x\",\"y\":[120304],\"yaxis\":\"y\",\"type\":\"bar\"},{\"alignmentgroup\":\"True\",\"hovertemplate\":\"Region=%{x}\\u003cbr\\u003eContagem=%{y}\\u003cextra\\u003e\\u003c\\u002fextra\\u003e\",\"legendgroup\":\"Potential Residential Area\",\"marker\":{\"color\":\"#ab63fa\",\"pattern\":{\"shape\":\"\"}},\"name\":\"Potential Residential Area\",\"offsetgroup\":\"Potential Residential Area\",\"orientation\":\"v\",\"showlegend\":true,\"textposition\":\"auto\",\"x\":[\"Potential Residential Area\"],\"xaxis\":\"x\",\"y\":[102892],\"yaxis\":\"y\",\"type\":\"bar\"},{\"alignmentgroup\":\"True\",\"hovertemplate\":\"Region=%{x}\\u003cbr\\u003eContagem=%{y}\\u003cextra\\u003e\\u003c\\u002fextra\\u003e\",\"legendgroup\":\"Industrial Area\",\"marker\":{\"color\":\"#FFA15A\",\"pattern\":{\"shape\":\"\"}},\"name\":\"Industrial Area\",\"offsetgroup\":\"Industrial Area\",\"orientation\":\"v\",\"showlegend\":true,\"textposition\":\"auto\",\"x\":[\"Industrial Area\"],\"xaxis\":\"x\",\"y\":[27969],\"yaxis\":\"y\",\"type\":\"bar\"}],                        {\"template\":{\"data\":{\"histogram2dcontour\":[{\"type\":\"histogram2dcontour\",\"colorbar\":{\"outlinewidth\":0,\"ticks\":\"\"},\"colorscale\":[[0.0,\"#0d0887\"],[0.1111111111111111,\"#46039f\"],[0.2222222222222222,\"#7201a8\"],[0.3333333333333333,\"#9c179e\"],[0.4444444444444444,\"#bd3786\"],[0.5555555555555556,\"#d8576b\"],[0.6666666666666666,\"#ed7953\"],[0.7777777777777778,\"#fb9f3a\"],[0.8888888888888888,\"#fdca26\"],[1.0,\"#f0f921\"]]}],\"choropleth\":[{\"type\":\"choropleth\",\"colorbar\":{\"outlinewidth\":0,\"ticks\":\"\"}}],\"histogram2d\":[{\"type\":\"histogram2d\",\"colorbar\":{\"outlinewidth\":0,\"ticks\":\"\"},\"colorscale\":[[0.0,\"#0d0887\"],[0.1111111111111111,\"#46039f\"],[0.2222222222222222,\"#7201a8\"],[0.3333333333333333,\"#9c179e\"],[0.4444444444444444,\"#bd3786\"],[0.5555555555555556,\"#d8576b\"],[0.6666666666666666,\"#ed7953\"],[0.7777777777777778,\"#fb9f3a\"],[0.8888888888888888,\"#fdca26\"],[1.0,\"#f0f921\"]]}],\"heatmap\":[{\"type\":\"heatmap\",\"colorbar\":{\"outlinewidth\":0,\"ticks\":\"\"},\"colorscale\":[[0.0,\"#0d0887\"],[0.1111111111111111,\"#46039f\"],[0.2222222222222222,\"#7201a8\"],[0.3333333333333333,\"#9c179e\"],[0.4444444444444444,\"#bd3786\"],[0.5555555555555556,\"#d8576b\"],[0.6666666666666666,\"#ed7953\"],[0.7777777777777778,\"#fb9f3a\"],[0.8888888888888888,\"#fdca26\"],[1.0,\"#f0f921\"]]}],\"heatmapgl\":[{\"type\":\"heatmapgl\",\"colorbar\":{\"outlinewidth\":0,\"ticks\":\"\"},\"colorscale\":[[0.0,\"#0d0887\"],[0.1111111111111111,\"#46039f\"],[0.2222222222222222,\"#7201a8\"],[0.3333333333333333,\"#9c179e\"],[0.4444444444444444,\"#bd3786\"],[0.5555555555555556,\"#d8576b\"],[0.6666666666666666,\"#ed7953\"],[0.7777777777777778,\"#fb9f3a\"],[0.8888888888888888,\"#fdca26\"],[1.0,\"#f0f921\"]]}],\"contourcarpet\":[{\"type\":\"contourcarpet\",\"colorbar\":{\"outlinewidth\":0,\"ticks\":\"\"}}],\"contour\":[{\"type\":\"contour\",\"colorbar\":{\"outlinewidth\":0,\"ticks\":\"\"},\"colorscale\":[[0.0,\"#0d0887\"],[0.1111111111111111,\"#46039f\"],[0.2222222222222222,\"#7201a8\"],[0.3333333333333333,\"#9c179e\"],[0.4444444444444444,\"#bd3786\"],[0.5555555555555556,\"#d8576b\"],[0.6666666666666666,\"#ed7953\"],[0.7777777777777778,\"#fb9f3a\"],[0.8888888888888888,\"#fdca26\"],[1.0,\"#f0f921\"]]}],\"surface\":[{\"type\":\"surface\",\"colorbar\":{\"outlinewidth\":0,\"ticks\":\"\"},\"colorscale\":[[0.0,\"#0d0887\"],[0.1111111111111111,\"#46039f\"],[0.2222222222222222,\"#7201a8\"],[0.3333333333333333,\"#9c179e\"],[0.4444444444444444,\"#bd3786\"],[0.5555555555555556,\"#d8576b\"],[0.6666666666666666,\"#ed7953\"],[0.7777777777777778,\"#fb9f3a\"],[0.8888888888888888,\"#fdca26\"],[1.0,\"#f0f921\"]]}],\"mesh3d\":[{\"type\":\"mesh3d\",\"colorbar\":{\"outlinewidth\":0,\"ticks\":\"\"}}],\"scatter\":[{\"fillpattern\":{\"fillmode\":\"overlay\",\"size\":10,\"solidity\":0.2},\"type\":\"scatter\"}],\"parcoords\":[{\"type\":\"parcoords\",\"line\":{\"colorbar\":{\"outlinewidth\":0,\"ticks\":\"\"}}}],\"scatterpolargl\":[{\"type\":\"scatterpolargl\",\"marker\":{\"colorbar\":{\"outlinewidth\":0,\"ticks\":\"\"}}}],\"bar\":[{\"error_x\":{\"color\":\"#2a3f5f\"},\"error_y\":{\"color\":\"#2a3f5f\"},\"marker\":{\"line\":{\"color\":\"#E5ECF6\",\"width\":0.5},\"pattern\":{\"fillmode\":\"overlay\",\"size\":10,\"solidity\":0.2}},\"type\":\"bar\"}],\"scattergeo\":[{\"type\":\"scattergeo\",\"marker\":{\"colorbar\":{\"outlinewidth\":0,\"ticks\":\"\"}}}],\"scatterpolar\":[{\"type\":\"scatterpolar\",\"marker\":{\"colorbar\":{\"outlinewidth\":0,\"ticks\":\"\"}}}],\"histogram\":[{\"marker\":{\"pattern\":{\"fillmode\":\"overlay\",\"size\":10,\"solidity\":0.2}},\"type\":\"histogram\"}],\"scattergl\":[{\"type\":\"scattergl\",\"marker\":{\"colorbar\":{\"outlinewidth\":0,\"ticks\":\"\"}}}],\"scatter3d\":[{\"type\":\"scatter3d\",\"line\":{\"colorbar\":{\"outlinewidth\":0,\"ticks\":\"\"}},\"marker\":{\"colorbar\":{\"outlinewidth\":0,\"ticks\":\"\"}}}],\"scattermapbox\":[{\"type\":\"scattermapbox\",\"marker\":{\"colorbar\":{\"outlinewidth\":0,\"ticks\":\"\"}}}],\"scatterternary\":[{\"type\":\"scatterternary\",\"marker\":{\"colorbar\":{\"outlinewidth\":0,\"ticks\":\"\"}}}],\"scattercarpet\":[{\"type\":\"scattercarpet\",\"marker\":{\"colorbar\":{\"outlinewidth\":0,\"ticks\":\"\"}}}],\"carpet\":[{\"aaxis\":{\"endlinecolor\":\"#2a3f5f\",\"gridcolor\":\"white\",\"linecolor\":\"white\",\"minorgridcolor\":\"white\",\"startlinecolor\":\"#2a3f5f\"},\"baxis\":{\"endlinecolor\":\"#2a3f5f\",\"gridcolor\":\"white\",\"linecolor\":\"white\",\"minorgridcolor\":\"white\",\"startlinecolor\":\"#2a3f5f\"},\"type\":\"carpet\"}],\"table\":[{\"cells\":{\"fill\":{\"color\":\"#EBF0F8\"},\"line\":{\"color\":\"white\"}},\"header\":{\"fill\":{\"color\":\"#C8D4E3\"},\"line\":{\"color\":\"white\"}},\"type\":\"table\"}],\"barpolar\":[{\"marker\":{\"line\":{\"color\":\"#E5ECF6\",\"width\":0.5},\"pattern\":{\"fillmode\":\"overlay\",\"size\":10,\"solidity\":0.2}},\"type\":\"barpolar\"}],\"pie\":[{\"automargin\":true,\"type\":\"pie\"}]},\"layout\":{\"autotypenumbers\":\"strict\",\"colorway\":[\"#636efa\",\"#EF553B\",\"#00cc96\",\"#ab63fa\",\"#FFA15A\",\"#19d3f3\",\"#FF6692\",\"#B6E880\",\"#FF97FF\",\"#FECB52\"],\"font\":{\"color\":\"#2a3f5f\"},\"hovermode\":\"closest\",\"hoverlabel\":{\"align\":\"left\"},\"paper_bgcolor\":\"white\",\"plot_bgcolor\":\"#E5ECF6\",\"polar\":{\"bgcolor\":\"#E5ECF6\",\"angularaxis\":{\"gridcolor\":\"white\",\"linecolor\":\"white\",\"ticks\":\"\"},\"radialaxis\":{\"gridcolor\":\"white\",\"linecolor\":\"white\",\"ticks\":\"\"}},\"ternary\":{\"bgcolor\":\"#E5ECF6\",\"aaxis\":{\"gridcolor\":\"white\",\"linecolor\":\"white\",\"ticks\":\"\"},\"baxis\":{\"gridcolor\":\"white\",\"linecolor\":\"white\",\"ticks\":\"\"},\"caxis\":{\"gridcolor\":\"white\",\"linecolor\":\"white\",\"ticks\":\"\"}},\"coloraxis\":{\"colorbar\":{\"outlinewidth\":0,\"ticks\":\"\"}},\"colorscale\":{\"sequential\":[[0.0,\"#0d0887\"],[0.1111111111111111,\"#46039f\"],[0.2222222222222222,\"#7201a8\"],[0.3333333333333333,\"#9c179e\"],[0.4444444444444444,\"#bd3786\"],[0.5555555555555556,\"#d8576b\"],[0.6666666666666666,\"#ed7953\"],[0.7777777777777778,\"#fb9f3a\"],[0.8888888888888888,\"#fdca26\"],[1.0,\"#f0f921\"]],\"sequentialminus\":[[0.0,\"#0d0887\"],[0.1111111111111111,\"#46039f\"],[0.2222222222222222,\"#7201a8\"],[0.3333333333333333,\"#9c179e\"],[0.4444444444444444,\"#bd3786\"],[0.5555555555555556,\"#d8576b\"],[0.6666666666666666,\"#ed7953\"],[0.7777777777777778,\"#fb9f3a\"],[0.8888888888888888,\"#fdca26\"],[1.0,\"#f0f921\"]],\"diverging\":[[0,\"#8e0152\"],[0.1,\"#c51b7d\"],[0.2,\"#de77ae\"],[0.3,\"#f1b6da\"],[0.4,\"#fde0ef\"],[0.5,\"#f7f7f7\"],[0.6,\"#e6f5d0\"],[0.7,\"#b8e186\"],[0.8,\"#7fbc41\"],[0.9,\"#4d9221\"],[1,\"#276419\"]]},\"xaxis\":{\"gridcolor\":\"white\",\"linecolor\":\"white\",\"ticks\":\"\",\"title\":{\"standoff\":15},\"zerolinecolor\":\"white\",\"automargin\":true,\"zerolinewidth\":2},\"yaxis\":{\"gridcolor\":\"white\",\"linecolor\":\"white\",\"ticks\":\"\",\"title\":{\"standoff\":15},\"zerolinecolor\":\"white\",\"automargin\":true,\"zerolinewidth\":2},\"scene\":{\"xaxis\":{\"backgroundcolor\":\"#E5ECF6\",\"gridcolor\":\"white\",\"linecolor\":\"white\",\"showbackground\":true,\"ticks\":\"\",\"zerolinecolor\":\"white\",\"gridwidth\":2},\"yaxis\":{\"backgroundcolor\":\"#E5ECF6\",\"gridcolor\":\"white\",\"linecolor\":\"white\",\"showbackground\":true,\"ticks\":\"\",\"zerolinecolor\":\"white\",\"gridwidth\":2},\"zaxis\":{\"backgroundcolor\":\"#E5ECF6\",\"gridcolor\":\"white\",\"linecolor\":\"white\",\"showbackground\":true,\"ticks\":\"\",\"zerolinecolor\":\"white\",\"gridwidth\":2}},\"shapedefaults\":{\"line\":{\"color\":\"#2a3f5f\"}},\"annotationdefaults\":{\"arrowcolor\":\"#2a3f5f\",\"arrowhead\":0,\"arrowwidth\":1},\"geo\":{\"bgcolor\":\"white\",\"landcolor\":\"#E5ECF6\",\"subunitcolor\":\"white\",\"showland\":true,\"showlakes\":true,\"lakecolor\":\"white\"},\"title\":{\"x\":0.05},\"mapbox\":{\"style\":\"light\"}}},\"xaxis\":{\"anchor\":\"y\",\"domain\":[0.0,1.0],\"title\":{\"text\":\"Region\"},\"categoryorder\":\"array\",\"categoryarray\":[\"Residential Area\",\"Not defined\",\"Commercial Area\",\"Potential Residential Area\",\"Industrial Area\"]},\"yaxis\":{\"anchor\":\"x\",\"domain\":[0.0,1.0],\"title\":{\"text\":\"Contagem\"}},\"legend\":{\"title\":{\"text\":\"Region\"},\"tracegroupgap\":0},\"margin\":{\"t\":60},\"barmode\":\"relative\"},                        {\"responsive\": true}                    ).then(function(){\n",
              "                            \n",
              "var gd = document.getElementById('3ee82a26-cf43-4fe1-ab79-821cda78caac');\n",
              "var x = new MutationObserver(function (mutations, observer) {{\n",
              "        var display = window.getComputedStyle(gd).display;\n",
              "        if (!display || display === 'none') {{\n",
              "            console.log([gd, 'removed!']);\n",
              "            Plotly.purge(gd);\n",
              "            observer.disconnect();\n",
              "        }}\n",
              "}});\n",
              "\n",
              "// Listen for the removal of the full notebook cells\n",
              "var notebookContainer = gd.closest('#notebook-container');\n",
              "if (notebookContainer) {{\n",
              "    x.observe(notebookContainer, {childList: true});\n",
              "}}\n",
              "\n",
              "// Listen for the clearing of the current output cell\n",
              "var outputEl = gd.closest('.output');\n",
              "if (outputEl) {{\n",
              "    x.observe(outputEl, {childList: true});\n",
              "}}\n",
              "\n",
              "                        })                };                            </script>        </div>\n",
              "</body>\n",
              "</html>"
            ]
          },
          "metadata": {}
        }
      ],
      "source": [
        "count_regiao = df_treino_sem_outliers['Region'].value_counts().reset_index()\n",
        "count_regiao.columns = ['Region', 'Contagem']\n",
        "\n",
        "fig = px.bar(count_regiao, x='Region', y='Contagem', color='Region')\n",
        "\n",
        "fig.show()"
      ]
    },
    {
      "cell_type": "code",
      "execution_count": null,
      "metadata": {
        "colab": {
          "base_uri": "https://localhost:8080/",
          "height": 542
        },
        "id": "iT0LzXEtZBbR",
        "outputId": "fb590688-d29b-4559-8686-3411f20606a5"
      },
      "outputs": [
        {
          "output_type": "display_data",
          "data": {
            "text/html": [
              "<html>\n",
              "<head><meta charset=\"utf-8\" /></head>\n",
              "<body>\n",
              "    <div>            <script src=\"https://cdnjs.cloudflare.com/ajax/libs/mathjax/2.7.5/MathJax.js?config=TeX-AMS-MML_SVG\"></script><script type=\"text/javascript\">if (window.MathJax && window.MathJax.Hub && window.MathJax.Hub.Config) {window.MathJax.Hub.Config({SVG: {font: \"STIX-Web\"}});}</script>                <script type=\"text/javascript\">window.PlotlyConfig = {MathJaxConfig: 'local'};</script>\n",
              "        <script charset=\"utf-8\" src=\"https://cdn.plot.ly/plotly-2.24.1.min.js\"></script>                <div id=\"055ada47-735b-48fb-ab41-f46272e11749\" class=\"plotly-graph-div\" style=\"height:525px; width:100%;\"></div>            <script type=\"text/javascript\">                                    window.PLOTLYENV=window.PLOTLYENV || {};                                    if (document.getElementById(\"055ada47-735b-48fb-ab41-f46272e11749\")) {                    Plotly.newPlot(                        \"055ada47-735b-48fb-ab41-f46272e11749\",                        [{\"alignmentgroup\":\"True\",\"hovertemplate\":\"Region=%{x}\\u003cbr\\u003eTradePrice=%{y}\\u003cextra\\u003e\\u003c\\u002fextra\\u003e\",\"legendgroup\":\"Commercial Area\",\"marker\":{\"color\":\"#636efa\",\"pattern\":{\"shape\":\"\"}},\"name\":\"Commercial Area\",\"offsetgroup\":\"Commercial Area\",\"orientation\":\"v\",\"showlegend\":true,\"textposition\":\"auto\",\"x\":[\"Commercial Area\",\"Commercial Area\",\"Commercial Area\",\"Commercial Area\",\"Commercial Area\",\"Commercial Area\",\"Commercial Area\",\"Commercial Area\",\"Commercial Area\",\"Commercial Area\",\"Commercial Area\",\"Commercial Area\",\"Commercial Area\",\"Commercial Area\",\"Commercial Area\",\"Commercial Area\",\"Commercial Area\",\"Commercial Area\",\"Commercial Area\",\"Commercial Area\",\"Commercial Area\",\"Commercial Area\",\"Commercial Area\",\"Commercial Area\",\"Commercial Area\",\"Commercial Area\",\"Commercial Area\",\"Commercial Area\",\"Commercial Area\",\"Commercial Area\",\"Commercial Area\",\"Commercial Area\",\"Commercial Area\",\"Commercial Area\",\"Commercial Area\",\"Commercial Area\",\"Commercial Area\",\"Commercial Area\",\"Commercial Area\",\"Commercial Area\",\"Commercial Area\",\"Commercial Area\",\"Commercial Area\",\"Commercial Area\",\"Commercial Area\",\"Commercial Area\",\"Commercial Area\",\"Commercial Area\",\"Commercial Area\",\"Commercial Area\",\"Commercial Area\",\"Commercial Area\",\"Commercial Area\",\"Commercial Area\",\"Commercial Area\",\"Commercial Area\",\"Commercial Area\",\"Commercial Area\",\"Commercial Area\",\"Commercial Area\",\"Commercial Area\",\"Commercial Area\",\"Commercial Area\",\"Commercial Area\",\"Commercial Area\",\"Commercial Area\",\"Commercial Area\",\"Commercial Area\",\"Commercial Area\",\"Commercial Area\",\"Commercial Area\",\"Commercial Area\",\"Commercial Area\",\"Commercial Area\",\"Commercial Area\",\"Commercial Area\",\"Commercial Area\",\"Commercial Area\",\"Commercial Area\",\"Commercial Area\",\"Commercial Area\",\"Commercial Area\",\"Commercial Area\",\"Commercial Area\",\"Commercial Area\",\"Commercial Area\",\"Commercial Area\",\"Commercial Area\",\"Commercial Area\",\"Commercial Area\",\"Commercial Area\",\"Commercial Area\",\"Commercial Area\",\"Commercial Area\",\"Commercial Area\",\"Commercial Area\",\"Commercial Area\",\"Commercial Area\",\"Commercial Area\",\"Commercial Area\",\"Commercial Area\",\"Commercial Area\",\"Commercial Area\",\"Commercial Area\",\"Commercial Area\",\"Commercial Area\",\"Commercial Area\",\"Commercial Area\",\"Commercial Area\",\"Commercial Area\",\"Commercial Area\",\"Commercial Area\",\"Commercial Area\",\"Commercial Area\",\"Commercial Area\",\"Commercial Area\",\"Commercial Area\",\"Commercial Area\",\"Commercial Area\",\"Commercial Area\",\"Commercial Area\",\"Commercial Area\",\"Commercial Area\",\"Commercial Area\",\"Commercial Area\",\"Commercial Area\",\"Commercial Area\",\"Commercial Area\",\"Commercial Area\",\"Commercial Area\",\"Commercial Area\",\"Commercial Area\",\"Commercial Area\",\"Commercial Area\",\"Commercial Area\",\"Commercial Area\",\"Commercial Area\",\"Commercial Area\",\"Commercial Area\",\"Commercial Area\",\"Commercial Area\",\"Commercial Area\",\"Commercial Area\",\"Commercial Area\",\"Commercial Area\",\"Commercial Area\",\"Commercial Area\",\"Commercial Area\",\"Commercial Area\",\"Commercial Area\",\"Commercial Area\",\"Commercial Area\",\"Commercial Area\",\"Commercial Area\",\"Commercial Area\",\"Commercial Area\",\"Commercial Area\",\"Commercial Area\",\"Commercial Area\",\"Commercial Area\",\"Commercial Area\",\"Commercial Area\",\"Commercial Area\",\"Commercial Area\",\"Commercial Area\",\"Commercial Area\",\"Commercial Area\",\"Commercial Area\",\"Commercial Area\",\"Commercial Area\",\"Commercial Area\",\"Commercial Area\",\"Commercial Area\",\"Commercial Area\",\"Commercial Area\",\"Commercial Area\",\"Commercial Area\",\"Commercial Area\",\"Commercial Area\",\"Commercial Area\",\"Commercial Area\",\"Commercial Area\"],\"xaxis\":\"x\",\"y\":[7178950000,5657000000,127000000,29000000,620800000,1259000000,233000000,60000000,45000000,33200000,32000000,35000000,18000000,64200000,60000000,2055450000,125000000,823900000,90000000,13000000,178300000,81500000,284244637000,2484400000,825800000,36000000,79000000,26000000,130000000,5300000,25000000,21000000,40100000,700400000,30000000,348900000,36000000,164900000,1665500000,18000000,1085000000,63000000,80000000,183000000,35000000,167000000,306000000,185000000,79000000,3790500000,64700000,147000000,17000000,263000000,115000000,83000000,37000000,29499850000,654700000,2226300000,65000000,241000000,17111600000,165000000,6134500000,44000000,512000000,74000000,92000000,1425400000,59000000,1446200000,10000000,114000000,339000000,473000000,90000000,13218300000,6428430000,769700000,1473900000,12600000,190301720000,2353800000,7748800000,319600000,126900000,57000000,15000000,8240561000,481900000,4268900000,3700000,83000000,28000000,7500000,1624100000,63000000,715000000,82000000,432500000,64746220000,440500000,137000000,20000000,29000000,24000000,67000000,30000000,18378200000,143000000,1916000000,82000000,95000000,10899000000,62000000,1866800000,11000000,189000000,60000000,407000000,1763800000,68000000,46000000,2271200000,1903800000,80000000,600000000,26000000,58671100000,534300000,2002180000,33000000,90000000,886500000,569300000,28000000,268000000,140000000,80244080000,2756710000,4559000000,104000000,441000000,33500000,47685400000,790300000,28498400000,217200000,872000000,4465300000,96000000,2721700000,19100000,7000000,486000000,61000000,1620500000,63000000,60000000,261000000,39230760000,3630660000,726100000,680500000,49600000,163850500000,4561300000,1399139019100,19639720000,637100000,481100000,118000000,296800000,10478190000,325000000,2299700000,297200000,1669900000,52000000,1321700000,437800000],\"yaxis\":\"y\",\"type\":\"bar\"},{\"alignmentgroup\":\"True\",\"hovertemplate\":\"Region=%{x}\\u003cbr\\u003eTradePrice=%{y}\\u003cextra\\u003e\\u003c\\u002fextra\\u003e\",\"legendgroup\":\"Industrial Area\",\"marker\":{\"color\":\"#EF553B\",\"pattern\":{\"shape\":\"\"}},\"name\":\"Industrial Area\",\"offsetgroup\":\"Industrial Area\",\"orientation\":\"v\",\"showlegend\":true,\"textposition\":\"auto\",\"x\":[\"Industrial Area\",\"Industrial Area\",\"Industrial Area\",\"Industrial Area\",\"Industrial Area\",\"Industrial Area\",\"Industrial Area\",\"Industrial Area\",\"Industrial Area\",\"Industrial Area\",\"Industrial Area\",\"Industrial Area\",\"Industrial Area\",\"Industrial Area\",\"Industrial Area\",\"Industrial Area\",\"Industrial Area\",\"Industrial Area\",\"Industrial Area\",\"Industrial Area\",\"Industrial Area\",\"Industrial Area\",\"Industrial Area\",\"Industrial Area\",\"Industrial Area\",\"Industrial Area\",\"Industrial Area\",\"Industrial Area\",\"Industrial Area\",\"Industrial Area\",\"Industrial Area\",\"Industrial Area\",\"Industrial Area\",\"Industrial Area\",\"Industrial Area\",\"Industrial Area\",\"Industrial Area\",\"Industrial Area\",\"Industrial Area\",\"Industrial Area\",\"Industrial Area\",\"Industrial Area\",\"Industrial Area\",\"Industrial Area\",\"Industrial Area\",\"Industrial Area\",\"Industrial Area\",\"Industrial Area\",\"Industrial Area\",\"Industrial Area\",\"Industrial Area\",\"Industrial Area\",\"Industrial Area\",\"Industrial Area\",\"Industrial Area\",\"Industrial Area\",\"Industrial Area\",\"Industrial Area\",\"Industrial Area\",\"Industrial Area\",\"Industrial Area\",\"Industrial Area\",\"Industrial Area\",\"Industrial Area\",\"Industrial Area\",\"Industrial Area\",\"Industrial Area\",\"Industrial Area\",\"Industrial Area\",\"Industrial Area\",\"Industrial Area\",\"Industrial Area\",\"Industrial Area\",\"Industrial Area\",\"Industrial Area\",\"Industrial Area\",\"Industrial Area\",\"Industrial Area\",\"Industrial Area\",\"Industrial Area\",\"Industrial Area\",\"Industrial Area\",\"Industrial Area\",\"Industrial Area\",\"Industrial Area\",\"Industrial Area\",\"Industrial Area\",\"Industrial Area\",\"Industrial Area\",\"Industrial Area\",\"Industrial Area\",\"Industrial Area\",\"Industrial Area\",\"Industrial Area\",\"Industrial Area\",\"Industrial Area\",\"Industrial Area\",\"Industrial Area\",\"Industrial Area\",\"Industrial Area\",\"Industrial Area\",\"Industrial Area\",\"Industrial Area\",\"Industrial Area\",\"Industrial Area\",\"Industrial Area\",\"Industrial Area\",\"Industrial Area\",\"Industrial Area\",\"Industrial Area\",\"Industrial Area\",\"Industrial Area\",\"Industrial Area\",\"Industrial Area\",\"Industrial Area\",\"Industrial Area\",\"Industrial Area\",\"Industrial Area\",\"Industrial Area\",\"Industrial Area\",\"Industrial Area\",\"Industrial Area\",\"Industrial Area\",\"Industrial Area\",\"Industrial Area\",\"Industrial Area\",\"Industrial Area\",\"Industrial Area\",\"Industrial Area\",\"Industrial Area\",\"Industrial Area\",\"Industrial Area\"],\"xaxis\":\"x\",\"y\":[61508560000,29356780000,845400000,80000000,152000000,5303700000,476500000,30000000,30000000,55000000,291000000,196000000,26000000,702500000,53000000,263400000,6269400000,210000000,31000000,107000000,369800000,20400000,147000000,28000000,19770460000,5016010000,1277100000,48000000,364300000,4900000,31000000,22000000,25000000,299400000,49000000,20000000,37000000,51000000,56000000,19000000,59000000,2428300000,81000000,182800000,28000000,273000000,1753400000,91000000,40000000,494600000,170700000,20000000,266800000,435500000,39500000,15000000,1355900000,52000000,1410200000,145000000,40000000,212000000,103000000,2426900000,22000000,13000000,366000000,3324300000,492600000,396000000,17000000,116400000,15000000,24000000,5600000,1016400000,135000000,30000000,105000000,639000000,33000000,16000000,1643970000,23000000,186000000,66600000,392500000,11000000,273700000,118000000,50000000,97000000,21622620000,1189000000,1082700000,85900000,21000000,824100000,31027540000,618700000,399000000,20000000,709300000,5111500000,202000000,21000000,81900000,2700200000,141100000,25000000,3117150000,915300000,7900000,79000000,2719270000,118300000,18000000,368368756000,31543112000,246900000,421300000,38000000,1548000000,7407130000,168000000,38000000,54800000,2826300000,49000000,850000,195000000,30000000],\"yaxis\":\"y\",\"type\":\"bar\"},{\"alignmentgroup\":\"True\",\"hovertemplate\":\"Region=%{x}\\u003cbr\\u003eTradePrice=%{y}\\u003cextra\\u003e\\u003c\\u002fextra\\u003e\",\"legendgroup\":\"Not defined\",\"marker\":{\"color\":\"#00cc96\",\"pattern\":{\"shape\":\"\"}},\"name\":\"Not defined\",\"offsetgroup\":\"Not defined\",\"orientation\":\"v\",\"showlegend\":true,\"textposition\":\"auto\",\"x\":[\"Not defined\",\"Not defined\",\"Not defined\",\"Not defined\",\"Not defined\",\"Not defined\",\"Not defined\",\"Not defined\",\"Not defined\",\"Not defined\",\"Not defined\",\"Not defined\",\"Not defined\",\"Not defined\",\"Not defined\",\"Not defined\",\"Not defined\",\"Not defined\",\"Not defined\",\"Not defined\"],\"xaxis\":\"x\",\"y\":[76100000,8969592176060,631400000,32000000,264900000,90000000,564800000,8000000,29051435000,8700000,809000000,5629580000,639950000,34672830000,24000000,1640294096990,215120000,34800000,24300000,60000000],\"yaxis\":\"y\",\"type\":\"bar\"},{\"alignmentgroup\":\"True\",\"hovertemplate\":\"Region=%{x}\\u003cbr\\u003eTradePrice=%{y}\\u003cextra\\u003e\\u003c\\u002fextra\\u003e\",\"legendgroup\":\"Potential Residential Area\",\"marker\":{\"color\":\"#ab63fa\",\"pattern\":{\"shape\":\"\"}},\"name\":\"Potential Residential Area\",\"offsetgroup\":\"Potential Residential Area\",\"orientation\":\"v\",\"showlegend\":true,\"textposition\":\"auto\",\"x\":[\"Potential Residential Area\",\"Potential Residential Area\",\"Potential Residential Area\",\"Potential Residential Area\",\"Potential Residential Area\",\"Potential Residential Area\",\"Potential Residential Area\",\"Potential Residential Area\",\"Potential Residential Area\",\"Potential Residential Area\",\"Potential Residential Area\",\"Potential Residential Area\",\"Potential Residential Area\",\"Potential Residential Area\",\"Potential Residential Area\",\"Potential Residential Area\",\"Potential Residential Area\",\"Potential Residential Area\",\"Potential Residential Area\",\"Potential Residential Area\",\"Potential Residential Area\",\"Potential Residential Area\"],\"xaxis\":\"x\",\"y\":[113000000,55000000,3000000,1440000000,4500000,26100000,9500000,14000000,20000000,21400000,41000000,108700000,63000000,114000000,6600000,440580000,24000000,43000000,991664956950,327650000,20000000,60500000],\"yaxis\":\"y\",\"type\":\"bar\"},{\"alignmentgroup\":\"True\",\"hovertemplate\":\"Region=%{x}\\u003cbr\\u003eTradePrice=%{y}\\u003cextra\\u003e\\u003c\\u002fextra\\u003e\",\"legendgroup\":\"Residential Area\",\"marker\":{\"color\":\"#FFA15A\",\"pattern\":{\"shape\":\"\"}},\"name\":\"Residential Area\",\"offsetgroup\":\"Residential Area\",\"orientation\":\"v\",\"showlegend\":true,\"textposition\":\"auto\",\"x\":[\"Residential Area\",\"Residential Area\",\"Residential Area\",\"Residential Area\",\"Residential Area\",\"Residential Area\",\"Residential Area\",\"Residential Area\",\"Residential Area\",\"Residential Area\",\"Residential Area\",\"Residential Area\",\"Residential Area\",\"Residential Area\",\"Residential Area\",\"Residential Area\",\"Residential Area\",\"Residential Area\",\"Residential Area\",\"Residential Area\",\"Residential Area\",\"Residential Area\",\"Residential Area\",\"Residential Area\",\"Residential Area\",\"Residential Area\",\"Residential Area\",\"Residential Area\",\"Residential Area\",\"Residential Area\",\"Residential Area\",\"Residential Area\",\"Residential Area\",\"Residential Area\",\"Residential Area\",\"Residential Area\",\"Residential Area\",\"Residential Area\",\"Residential Area\",\"Residential Area\",\"Residential Area\",\"Residential Area\",\"Residential Area\",\"Residential Area\",\"Residential Area\",\"Residential Area\",\"Residential Area\",\"Residential Area\",\"Residential Area\",\"Residential Area\",\"Residential Area\",\"Residential Area\",\"Residential Area\",\"Residential Area\",\"Residential Area\",\"Residential Area\",\"Residential Area\",\"Residential Area\",\"Residential Area\",\"Residential Area\",\"Residential Area\",\"Residential Area\",\"Residential Area\",\"Residential Area\",\"Residential Area\",\"Residential Area\",\"Residential Area\",\"Residential Area\",\"Residential Area\",\"Residential Area\",\"Residential Area\",\"Residential Area\",\"Residential Area\",\"Residential Area\",\"Residential Area\",\"Residential Area\",\"Residential Area\",\"Residential Area\",\"Residential Area\",\"Residential Area\",\"Residential Area\",\"Residential Area\",\"Residential Area\",\"Residential Area\",\"Residential Area\",\"Residential Area\",\"Residential Area\",\"Residential Area\",\"Residential Area\",\"Residential Area\",\"Residential Area\",\"Residential Area\",\"Residential Area\",\"Residential Area\",\"Residential Area\",\"Residential Area\",\"Residential Area\",\"Residential Area\",\"Residential Area\",\"Residential Area\",\"Residential Area\",\"Residential Area\",\"Residential Area\",\"Residential Area\",\"Residential Area\",\"Residential Area\",\"Residential Area\",\"Residential Area\",\"Residential Area\",\"Residential Area\",\"Residential Area\",\"Residential Area\",\"Residential Area\",\"Residential Area\",\"Residential Area\",\"Residential Area\",\"Residential Area\",\"Residential Area\",\"Residential Area\",\"Residential Area\",\"Residential Area\",\"Residential Area\",\"Residential Area\",\"Residential Area\",\"Residential Area\",\"Residential Area\",\"Residential Area\",\"Residential Area\",\"Residential Area\",\"Residential Area\",\"Residential Area\",\"Residential Area\",\"Residential Area\",\"Residential Area\",\"Residential Area\",\"Residential Area\",\"Residential Area\",\"Residential Area\",\"Residential Area\",\"Residential Area\",\"Residential Area\",\"Residential Area\",\"Residential Area\",\"Residential Area\",\"Residential Area\",\"Residential Area\",\"Residential Area\",\"Residential Area\",\"Residential Area\",\"Residential Area\",\"Residential Area\",\"Residential Area\",\"Residential Area\",\"Residential Area\",\"Residential Area\",\"Residential Area\",\"Residential Area\",\"Residential Area\",\"Residential Area\",\"Residential Area\",\"Residential Area\",\"Residential Area\",\"Residential Area\",\"Residential Area\",\"Residential Area\",\"Residential Area\",\"Residential Area\",\"Residential Area\",\"Residential Area\",\"Residential Area\",\"Residential Area\",\"Residential Area\",\"Residential Area\",\"Residential Area\",\"Residential Area\",\"Residential Area\",\"Residential Area\",\"Residential Area\",\"Residential Area\",\"Residential Area\",\"Residential Area\",\"Residential Area\",\"Residential Area\",\"Residential Area\",\"Residential Area\",\"Residential Area\",\"Residential Area\",\"Residential Area\",\"Residential Area\",\"Residential Area\",\"Residential Area\",\"Residential Area\",\"Residential Area\",\"Residential Area\",\"Residential Area\",\"Residential Area\",\"Residential Area\",\"Residential Area\",\"Residential Area\",\"Residential Area\",\"Residential Area\",\"Residential Area\",\"Residential Area\",\"Residential Area\",\"Residential Area\",\"Residential Area\",\"Residential Area\"],\"xaxis\":\"x\",\"y\":[45858270000,17855563000,368300000,109900000,27000000,134000000,35000000,4048900000,161200000,50000000,45640000,320600000,28600000,64000000,59000000,513700000,104300000,29000000,753600000,4755210000,31700000,89000000,119300000,20000000,363500000,85600000,18687290774680,13841981000,3315900000,24000000,74000000,119400000,700000,664700000,134000000,26000000,34000000,458300000,80000000,531600000,500000,1453400000,22500000,51000000,212600000,22068700000,475500000,20000000,34000000,36500000,1908300000,62000000,151000000,10000000,339000000,210000000,22000000,13000000,363000000,895800000,28000000,143000000,4145200000,20000000,743900000,4500000,137000000,547200000,44000000,68013060000,1153100000,4334640000,59900000,228000000,5651000000,43200000,14882500000,276000000,662000000,16000000,562500000,21000000,4346900000,81100000,68000000,25000000,47000000,995800000,8500000,114000000,62000000,43388110000,136605110000,4672840000,1263000000,1000000,154975720710,1720500000,36062331600,1748900300,1540330000,206800000,50000000,4328350000,262400000,27648410000,208920000,285100000,17000000,25000000,995200000,6000000,1784260000,112500000,75500000,620000,16000000,41900000,1110081190000,1337900000,690000000,61000000,148000000,9500000,41000000,133000000,385500000,40000000,28743360000,543700000,1920500000,45000000,46000000,5689000000,176000000,4147600000,50000000,182300000,39000000,3984100000,227000000,3643200000,13826800000,184000000,1137000000,53520400000,71000000,8854300000,82000000,239200000,783100000,2551000000,115000000,66600000,70000000,196000000,94390170000,4219620000,4381300000,315400000,197000000,25000000,13673770000,276000000,60093560000,765270000,1665900000,73000000,80000000,2476350000,8720150000,330800000,142000000,33000000,453400000,4817014000,83300000,66000000,121000000,74086658400,8261540000,1095400000,494300000,103000000,2800000,64614711000,2049280000,13330230874980,72346755000,1113140000,1098520000,151000000,70500000,5003170000,153000000,15133921000,327650000,200400000,50000000,1243400000,59400000,6051465000,79000000,98400000,3500000,269000000,1400000],\"yaxis\":\"y\",\"type\":\"bar\"}],                        {\"template\":{\"data\":{\"histogram2dcontour\":[{\"type\":\"histogram2dcontour\",\"colorbar\":{\"outlinewidth\":0,\"ticks\":\"\"},\"colorscale\":[[0.0,\"#0d0887\"],[0.1111111111111111,\"#46039f\"],[0.2222222222222222,\"#7201a8\"],[0.3333333333333333,\"#9c179e\"],[0.4444444444444444,\"#bd3786\"],[0.5555555555555556,\"#d8576b\"],[0.6666666666666666,\"#ed7953\"],[0.7777777777777778,\"#fb9f3a\"],[0.8888888888888888,\"#fdca26\"],[1.0,\"#f0f921\"]]}],\"choropleth\":[{\"type\":\"choropleth\",\"colorbar\":{\"outlinewidth\":0,\"ticks\":\"\"}}],\"histogram2d\":[{\"type\":\"histogram2d\",\"colorbar\":{\"outlinewidth\":0,\"ticks\":\"\"},\"colorscale\":[[0.0,\"#0d0887\"],[0.1111111111111111,\"#46039f\"],[0.2222222222222222,\"#7201a8\"],[0.3333333333333333,\"#9c179e\"],[0.4444444444444444,\"#bd3786\"],[0.5555555555555556,\"#d8576b\"],[0.6666666666666666,\"#ed7953\"],[0.7777777777777778,\"#fb9f3a\"],[0.8888888888888888,\"#fdca26\"],[1.0,\"#f0f921\"]]}],\"heatmap\":[{\"type\":\"heatmap\",\"colorbar\":{\"outlinewidth\":0,\"ticks\":\"\"},\"colorscale\":[[0.0,\"#0d0887\"],[0.1111111111111111,\"#46039f\"],[0.2222222222222222,\"#7201a8\"],[0.3333333333333333,\"#9c179e\"],[0.4444444444444444,\"#bd3786\"],[0.5555555555555556,\"#d8576b\"],[0.6666666666666666,\"#ed7953\"],[0.7777777777777778,\"#fb9f3a\"],[0.8888888888888888,\"#fdca26\"],[1.0,\"#f0f921\"]]}],\"heatmapgl\":[{\"type\":\"heatmapgl\",\"colorbar\":{\"outlinewidth\":0,\"ticks\":\"\"},\"colorscale\":[[0.0,\"#0d0887\"],[0.1111111111111111,\"#46039f\"],[0.2222222222222222,\"#7201a8\"],[0.3333333333333333,\"#9c179e\"],[0.4444444444444444,\"#bd3786\"],[0.5555555555555556,\"#d8576b\"],[0.6666666666666666,\"#ed7953\"],[0.7777777777777778,\"#fb9f3a\"],[0.8888888888888888,\"#fdca26\"],[1.0,\"#f0f921\"]]}],\"contourcarpet\":[{\"type\":\"contourcarpet\",\"colorbar\":{\"outlinewidth\":0,\"ticks\":\"\"}}],\"contour\":[{\"type\":\"contour\",\"colorbar\":{\"outlinewidth\":0,\"ticks\":\"\"},\"colorscale\":[[0.0,\"#0d0887\"],[0.1111111111111111,\"#46039f\"],[0.2222222222222222,\"#7201a8\"],[0.3333333333333333,\"#9c179e\"],[0.4444444444444444,\"#bd3786\"],[0.5555555555555556,\"#d8576b\"],[0.6666666666666666,\"#ed7953\"],[0.7777777777777778,\"#fb9f3a\"],[0.8888888888888888,\"#fdca26\"],[1.0,\"#f0f921\"]]}],\"surface\":[{\"type\":\"surface\",\"colorbar\":{\"outlinewidth\":0,\"ticks\":\"\"},\"colorscale\":[[0.0,\"#0d0887\"],[0.1111111111111111,\"#46039f\"],[0.2222222222222222,\"#7201a8\"],[0.3333333333333333,\"#9c179e\"],[0.4444444444444444,\"#bd3786\"],[0.5555555555555556,\"#d8576b\"],[0.6666666666666666,\"#ed7953\"],[0.7777777777777778,\"#fb9f3a\"],[0.8888888888888888,\"#fdca26\"],[1.0,\"#f0f921\"]]}],\"mesh3d\":[{\"type\":\"mesh3d\",\"colorbar\":{\"outlinewidth\":0,\"ticks\":\"\"}}],\"scatter\":[{\"fillpattern\":{\"fillmode\":\"overlay\",\"size\":10,\"solidity\":0.2},\"type\":\"scatter\"}],\"parcoords\":[{\"type\":\"parcoords\",\"line\":{\"colorbar\":{\"outlinewidth\":0,\"ticks\":\"\"}}}],\"scatterpolargl\":[{\"type\":\"scatterpolargl\",\"marker\":{\"colorbar\":{\"outlinewidth\":0,\"ticks\":\"\"}}}],\"bar\":[{\"error_x\":{\"color\":\"#2a3f5f\"},\"error_y\":{\"color\":\"#2a3f5f\"},\"marker\":{\"line\":{\"color\":\"#E5ECF6\",\"width\":0.5},\"pattern\":{\"fillmode\":\"overlay\",\"size\":10,\"solidity\":0.2}},\"type\":\"bar\"}],\"scattergeo\":[{\"type\":\"scattergeo\",\"marker\":{\"colorbar\":{\"outlinewidth\":0,\"ticks\":\"\"}}}],\"scatterpolar\":[{\"type\":\"scatterpolar\",\"marker\":{\"colorbar\":{\"outlinewidth\":0,\"ticks\":\"\"}}}],\"histogram\":[{\"marker\":{\"pattern\":{\"fillmode\":\"overlay\",\"size\":10,\"solidity\":0.2}},\"type\":\"histogram\"}],\"scattergl\":[{\"type\":\"scattergl\",\"marker\":{\"colorbar\":{\"outlinewidth\":0,\"ticks\":\"\"}}}],\"scatter3d\":[{\"type\":\"scatter3d\",\"line\":{\"colorbar\":{\"outlinewidth\":0,\"ticks\":\"\"}},\"marker\":{\"colorbar\":{\"outlinewidth\":0,\"ticks\":\"\"}}}],\"scattermapbox\":[{\"type\":\"scattermapbox\",\"marker\":{\"colorbar\":{\"outlinewidth\":0,\"ticks\":\"\"}}}],\"scatterternary\":[{\"type\":\"scatterternary\",\"marker\":{\"colorbar\":{\"outlinewidth\":0,\"ticks\":\"\"}}}],\"scattercarpet\":[{\"type\":\"scattercarpet\",\"marker\":{\"colorbar\":{\"outlinewidth\":0,\"ticks\":\"\"}}}],\"carpet\":[{\"aaxis\":{\"endlinecolor\":\"#2a3f5f\",\"gridcolor\":\"white\",\"linecolor\":\"white\",\"minorgridcolor\":\"white\",\"startlinecolor\":\"#2a3f5f\"},\"baxis\":{\"endlinecolor\":\"#2a3f5f\",\"gridcolor\":\"white\",\"linecolor\":\"white\",\"minorgridcolor\":\"white\",\"startlinecolor\":\"#2a3f5f\"},\"type\":\"carpet\"}],\"table\":[{\"cells\":{\"fill\":{\"color\":\"#EBF0F8\"},\"line\":{\"color\":\"white\"}},\"header\":{\"fill\":{\"color\":\"#C8D4E3\"},\"line\":{\"color\":\"white\"}},\"type\":\"table\"}],\"barpolar\":[{\"marker\":{\"line\":{\"color\":\"#E5ECF6\",\"width\":0.5},\"pattern\":{\"fillmode\":\"overlay\",\"size\":10,\"solidity\":0.2}},\"type\":\"barpolar\"}],\"pie\":[{\"automargin\":true,\"type\":\"pie\"}]},\"layout\":{\"autotypenumbers\":\"strict\",\"colorway\":[\"#636efa\",\"#EF553B\",\"#00cc96\",\"#ab63fa\",\"#FFA15A\",\"#19d3f3\",\"#FF6692\",\"#B6E880\",\"#FF97FF\",\"#FECB52\"],\"font\":{\"color\":\"#2a3f5f\"},\"hovermode\":\"closest\",\"hoverlabel\":{\"align\":\"left\"},\"paper_bgcolor\":\"white\",\"plot_bgcolor\":\"#E5ECF6\",\"polar\":{\"bgcolor\":\"#E5ECF6\",\"angularaxis\":{\"gridcolor\":\"white\",\"linecolor\":\"white\",\"ticks\":\"\"},\"radialaxis\":{\"gridcolor\":\"white\",\"linecolor\":\"white\",\"ticks\":\"\"}},\"ternary\":{\"bgcolor\":\"#E5ECF6\",\"aaxis\":{\"gridcolor\":\"white\",\"linecolor\":\"white\",\"ticks\":\"\"},\"baxis\":{\"gridcolor\":\"white\",\"linecolor\":\"white\",\"ticks\":\"\"},\"caxis\":{\"gridcolor\":\"white\",\"linecolor\":\"white\",\"ticks\":\"\"}},\"coloraxis\":{\"colorbar\":{\"outlinewidth\":0,\"ticks\":\"\"}},\"colorscale\":{\"sequential\":[[0.0,\"#0d0887\"],[0.1111111111111111,\"#46039f\"],[0.2222222222222222,\"#7201a8\"],[0.3333333333333333,\"#9c179e\"],[0.4444444444444444,\"#bd3786\"],[0.5555555555555556,\"#d8576b\"],[0.6666666666666666,\"#ed7953\"],[0.7777777777777778,\"#fb9f3a\"],[0.8888888888888888,\"#fdca26\"],[1.0,\"#f0f921\"]],\"sequentialminus\":[[0.0,\"#0d0887\"],[0.1111111111111111,\"#46039f\"],[0.2222222222222222,\"#7201a8\"],[0.3333333333333333,\"#9c179e\"],[0.4444444444444444,\"#bd3786\"],[0.5555555555555556,\"#d8576b\"],[0.6666666666666666,\"#ed7953\"],[0.7777777777777778,\"#fb9f3a\"],[0.8888888888888888,\"#fdca26\"],[1.0,\"#f0f921\"]],\"diverging\":[[0,\"#8e0152\"],[0.1,\"#c51b7d\"],[0.2,\"#de77ae\"],[0.3,\"#f1b6da\"],[0.4,\"#fde0ef\"],[0.5,\"#f7f7f7\"],[0.6,\"#e6f5d0\"],[0.7,\"#b8e186\"],[0.8,\"#7fbc41\"],[0.9,\"#4d9221\"],[1,\"#276419\"]]},\"xaxis\":{\"gridcolor\":\"white\",\"linecolor\":\"white\",\"ticks\":\"\",\"title\":{\"standoff\":15},\"zerolinecolor\":\"white\",\"automargin\":true,\"zerolinewidth\":2},\"yaxis\":{\"gridcolor\":\"white\",\"linecolor\":\"white\",\"ticks\":\"\",\"title\":{\"standoff\":15},\"zerolinecolor\":\"white\",\"automargin\":true,\"zerolinewidth\":2},\"scene\":{\"xaxis\":{\"backgroundcolor\":\"#E5ECF6\",\"gridcolor\":\"white\",\"linecolor\":\"white\",\"showbackground\":true,\"ticks\":\"\",\"zerolinecolor\":\"white\",\"gridwidth\":2},\"yaxis\":{\"backgroundcolor\":\"#E5ECF6\",\"gridcolor\":\"white\",\"linecolor\":\"white\",\"showbackground\":true,\"ticks\":\"\",\"zerolinecolor\":\"white\",\"gridwidth\":2},\"zaxis\":{\"backgroundcolor\":\"#E5ECF6\",\"gridcolor\":\"white\",\"linecolor\":\"white\",\"showbackground\":true,\"ticks\":\"\",\"zerolinecolor\":\"white\",\"gridwidth\":2}},\"shapedefaults\":{\"line\":{\"color\":\"#2a3f5f\"}},\"annotationdefaults\":{\"arrowcolor\":\"#2a3f5f\",\"arrowhead\":0,\"arrowwidth\":1},\"geo\":{\"bgcolor\":\"white\",\"landcolor\":\"#E5ECF6\",\"subunitcolor\":\"white\",\"showland\":true,\"showlakes\":true,\"lakecolor\":\"white\"},\"title\":{\"x\":0.05},\"mapbox\":{\"style\":\"light\"}}},\"xaxis\":{\"anchor\":\"y\",\"domain\":[0.0,1.0],\"title\":{\"text\":\"Region\"},\"categoryorder\":\"array\",\"categoryarray\":[\"Commercial Area\",\"Industrial Area\",\"Not defined\",\"Potential Residential Area\",\"Residential Area\"]},\"yaxis\":{\"anchor\":\"x\",\"domain\":[0.0,1.0],\"title\":{\"text\":\"TradePrice\"}},\"legend\":{\"title\":{\"text\":\"Region\"},\"tracegroupgap\":0},\"margin\":{\"t\":60},\"barmode\":\"relative\"},                        {\"responsive\": true}                    ).then(function(){\n",
              "                            \n",
              "var gd = document.getElementById('055ada47-735b-48fb-ab41-f46272e11749');\n",
              "var x = new MutationObserver(function (mutations, observer) {{\n",
              "        var display = window.getComputedStyle(gd).display;\n",
              "        if (!display || display === 'none') {{\n",
              "            console.log([gd, 'removed!']);\n",
              "            Plotly.purge(gd);\n",
              "            observer.disconnect();\n",
              "        }}\n",
              "}});\n",
              "\n",
              "// Listen for the removal of the full notebook cells\n",
              "var notebookContainer = gd.closest('#notebook-container');\n",
              "if (notebookContainer) {{\n",
              "    x.observe(notebookContainer, {childList: true});\n",
              "}}\n",
              "\n",
              "// Listen for the clearing of the current output cell\n",
              "var outputEl = gd.closest('.output');\n",
              "if (outputEl) {{\n",
              "    x.observe(outputEl, {childList: true});\n",
              "}}\n",
              "\n",
              "                        })                };                            </script>        </div>\n",
              "</body>\n",
              "</html>"
            ]
          },
          "metadata": {}
        }
      ],
      "source": [
        "df_area_valor2 = df_treino_sem_outliers[['Region', 'Use', 'TradePrice']]\n",
        "df_area_valor = df_area_valor2.groupby(['Region', 'Use']).sum()\n",
        "df_area_valor = df_area_valor.reset_index()\n",
        "df_area_valor['TradePrice'] = df_area_valor['TradePrice'].astype(int)\n",
        "\n",
        "\n",
        "fig = px.bar(df_area_valor, x='Region', y='TradePrice', color='Region')\n",
        "\n",
        "fig.show()"
      ]
    },
    {
      "cell_type": "code",
      "execution_count": null,
      "metadata": {
        "id": "-dpBpqpYBrBb"
      },
      "outputs": [],
      "source": [
        "# Distribuição do Trade price\n",
        "\n",
        "fig = px.histogram(df_treino_sem_outliers, x=\"TradePrice\", nbins=10)\n",
        "fig.show()"
      ]
    },
    {
      "cell_type": "code",
      "execution_count": null,
      "metadata": {
        "id": "rxvi6Gu7uFu0"
      },
      "outputs": [],
      "source": [
        "df_corr = df_treino_sem_outliers[['Area', 'UnitPrice', 'PricePerTsubo', 'Frontage', 'TotalFloorArea',\n",
        "                      'BuildingYear', 'Breadth', 'CoverageRatio', 'FloorAreaRatio', 'TradePrice']]\n",
        "sns.heatmap(df_corr.corr())"
      ]
    },
    {
      "cell_type": "code",
      "execution_count": null,
      "metadata": {
        "id": "ztmoRYRpBrBd"
      },
      "outputs": [],
      "source": [
        "from scipy import stats\n",
        "# Teste de Kolmogorov Smirnov\n",
        "ks_statistic, p_value = stats.kstest(df_treino_sem_outliers['TradePrice'], 'norm')\n",
        "\n",
        "print('Estatística de Kolmogorov-Smirnov:', ks_statistic)\n",
        "print('p-valor:', p_value)\n",
        "\n",
        "print('******************************************')\n",
        "\n",
        "df_amostra = df_treino_sem_outliers.sample(n=30)\n",
        "\n",
        "# Teste de Shapiro-Wilk para a coluna 'TradePrice'\n",
        "stat, p = stats.shapiro(df_amostra['TradePrice'])\n",
        "\n",
        "print('Shapiro = %.3f, p-valor = %.3f' % (stat, p))\n",
        "alpha = 0.05\n",
        "if p > alpha:\n",
        "    print('Amostra possui Distribuição Gaussiana (Considere a Hipótese Nula)')\n",
        "else:\n",
        "    print('Amostra não representa uma distribuição Gaussina (Rejeitar Hipótese Nula)')"
      ]
    },
    {
      "cell_type": "markdown",
      "metadata": {
        "id": "h9EXDSimTmlp"
      },
      "source": [
        "### Modelo de Regressão Linear"
      ]
    },
    {
      "cell_type": "code",
      "execution_count": 19,
      "metadata": {
        "id": "8_uVjbhQBrBe"
      },
      "outputs": [],
      "source": [
        "from sklearn.model_selection import train_test_split, KFold, cross_val_score\n",
        "from sklearn.linear_model import LinearRegression\n",
        "from sklearn.metrics import mean_squared_log_error, mean_absolute_percentage_error\n",
        "\n",
        "# Selecionando as colunas numéricas\n",
        "numerical_features = ['Area', 'UnitPrice', 'PricePerTsubo', 'Frontage', 'TotalFloorArea',\n",
        "                      'BuildingYear', 'Breadth', 'CoverageRatio', 'FloorAreaRatio']\n",
        "\n",
        "X = df_treino_sem_outliers[numerical_features]  # Features\n",
        "y = df_treino_sem_outliers['TradePrice']  # Variável alvo\n"
      ]
    },
    {
      "cell_type": "code",
      "execution_count": 20,
      "metadata": {
        "id": "M3_83hIzsB2c"
      },
      "outputs": [],
      "source": [
        "# Dividindo os dados em treino e teste\n",
        "X_train, X_test, y_train, y_test = train_test_split(X, y, test_size=0.2, random_state=42)"
      ]
    },
    {
      "cell_type": "code",
      "execution_count": null,
      "metadata": {
        "id": "LMkR8viwBrBh"
      },
      "outputs": [],
      "source": [
        "# Criando o modelo de regressão linear\n",
        "model = LinearRegression()\n"
      ]
    },
    {
      "cell_type": "code",
      "execution_count": null,
      "metadata": {
        "id": "1aUwp9uBBrBj"
      },
      "outputs": [],
      "source": [
        "# Validando o modelo com k-fold cross-validation\n",
        "kf = KFold(n_splits=5, shuffle=True, random_state=42)\n",
        "cv_results = cross_val_score(model, X_train, y_train, cv=kf, scoring='neg_mean_squared_log_error')\n"
      ]
    },
    {
      "cell_type": "code",
      "execution_count": null,
      "metadata": {
        "id": "G1r14Z4KBrBj"
      },
      "outputs": [],
      "source": [
        "model.fit(X_train, y_train)"
      ]
    },
    {
      "cell_type": "code",
      "execution_count": null,
      "metadata": {
        "id": "_wKw30EYcwhz"
      },
      "outputs": [],
      "source": [
        "y_pred = model.predict(X_test)"
      ]
    },
    {
      "cell_type": "code",
      "execution_count": null,
      "metadata": {
        "id": "Qz4eh39KBrBk"
      },
      "outputs": [],
      "source": [
        "# Calculando métricas de avaliação\n",
        "rmsle = np.sqrt(mean_squared_log_error(y_test, y_pred))\n",
        "mape = mean_absolute_percentage_error(y_test, y_pred)\n",
        "\n",
        "#rmsle, mape, cv_results.mean()\n",
        "print(f'RMSLE: {rmsle:.4f}')\n",
        "print(f'MAPE: {mape:.4f}')\n",
        "print(f'CV Results: {cv_results.mean():.4f}')"
      ]
    },
    {
      "cell_type": "markdown",
      "metadata": {
        "id": "wF-eRR8Tjwus"
      },
      "source": [
        "Predição no dataframe de teste"
      ]
    },
    {
      "cell_type": "code",
      "execution_count": null,
      "metadata": {
        "id": "8CL-upCAjwG0"
      },
      "outputs": [],
      "source": [
        "df_teste['TradePrediction'] = model.predict(df_teste[X_train.columns])\n",
        "df_teste"
      ]
    },
    {
      "cell_type": "code",
      "execution_count": 48,
      "metadata": {
        "id": "9Tjy2cuEjwAS"
      },
      "outputs": [],
      "source": [
        "from sklearn.metrics import mean_absolute_error, mean_squared_error, r2_score\n",
        "\n",
        "def avaliar_modelo(valores_reais, valores_preditos, alpha=0.05):\n",
        "    mae = mean_absolute_error(valores_reais, valores_preditos)\n",
        "    mse = mean_squared_error(valores_reais, valores_preditos)\n",
        "    rmse = mean_squared_error(valores_reais, valores_preditos, squared=False)\n",
        "    r2 = r2_score(valores_reais, valores_preditos)\n",
        "\n",
        "    interpretacao = []\n",
        "\n",
        "    # Interpretação MAE\n",
        "    if mae < (0.1 * sum(valores_reais) / len(valores_reais)):\n",
        "        interpretacao.append(\"MAE: Semelhante - O erro médio absoluto é relativamente baixo.\")\n",
        "    else:\n",
        "        interpretacao.append(\"MAE: Diferente - O erro médio absoluto é relativamente alto.\")\n",
        "\n",
        "    # Interpretação MSE\n",
        "    if mse < (0.1 * sum([x**2 for x in valores_reais]) / len(valores_reais)):\n",
        "        interpretacao.append(\"MSE: Semelhante - O erro quadrático médio é relativamente baixo.\")\n",
        "    else:\n",
        "        interpretacao.append(\"MSE: Diferente - O erro quadrático médio é relativamente alto.\")\n",
        "\n",
        "    # Interpretação RMSE\n",
        "    if rmse < (0.1 * max(valores_reais)):\n",
        "        interpretacao.append(\"RMSE: Semelhante - A raiz do erro quadrático médio é relativamente baixa.\")\n",
        "    else:\n",
        "        interpretacao.append(\"RMSE: Diferente - A raiz do erro quadrático médio é relativamente alta.\")\n",
        "\n",
        "    # Interpretação R²\n",
        "    if r2 > 1 - alpha:\n",
        "        interpretacao.append(\"R²: Semelhante - O modelo explica bem a variabilidade dos dados.\")\n",
        "    else:\n",
        "        interpretacao.append(\"R²: Diferente - O modelo não explica bem a variabilidade dos dados.\")\n",
        "\n",
        "    return {\n",
        "        'MAE': round(mae,2),\n",
        "        'MSE': round(mse,2),\n",
        "        'RMSE': round(rmse,2),\n",
        "        'R²': round(r2,2),\n",
        "        'Interpretacao': interpretacao\n",
        "    }"
      ]
    },
    {
      "cell_type": "code",
      "execution_count": null,
      "metadata": {
        "id": "UZj1UeH8jv8O"
      },
      "outputs": [],
      "source": [
        "avaliar_modelo(df_teste['TradePrice'], df_teste['TradePrediction'], alpha=0.05)"
      ]
    },
    {
      "cell_type": "markdown",
      "metadata": {
        "id": "poM_YDFlnLtJ"
      },
      "source": [
        "### Modelo de Arvore de Decisão"
      ]
    },
    {
      "cell_type": "code",
      "execution_count": 21,
      "metadata": {
        "id": "onGWxM5EmyzL"
      },
      "outputs": [],
      "source": [
        "from sklearn.tree import DecisionTreeRegressor\n",
        "from sklearn.model_selection import GridSearchCV\n",
        "from sklearn.preprocessing import OneHotEncoder\n",
        "from sklearn.compose import ColumnTransformer\n",
        "from sklearn.pipeline import Pipeline"
      ]
    },
    {
      "cell_type": "code",
      "execution_count": 22,
      "metadata": {
        "id": "WqxQ_o_RwzKz"
      },
      "outputs": [],
      "source": [
        "# df_teste.drop(columns=['TradePrediction'], inplace=True)\n",
        "df_sample = df.sample(frac=0.1, random_state=42)  # Usando 10% dos dados\n"
      ]
    },
    {
      "cell_type": "code",
      "execution_count": 37,
      "metadata": {
        "id": "qYAOUZcvnKSI"
      },
      "outputs": [],
      "source": [
        "categorical_features = ['Region', 'Use']\n",
        "numerical_features = ['Area', 'UnitPrice', 'PricePerTsubo', 'Frontage', 'TotalFloorArea',\n",
        "                      'BuildingYear', 'Breadth', 'CoverageRatio', 'FloorAreaRatio']\n",
        "\n",
        "X_train = df_sample[numerical_features + categorical_features]\n",
        "y_train = df_sample['TradePrice']\n",
        "\n",
        "preprocessor = ColumnTransformer(\n",
        "    transformers=[\n",
        "        ('num', 'passthrough', numerical_features),\n",
        "        ('cat', OneHotEncoder(handle_unknown='ignore'), categorical_features)\n",
        "    ])"
      ]
    },
    {
      "cell_type": "code",
      "execution_count": 39,
      "metadata": {
        "id": "_t0HbX8inKP6"
      },
      "outputs": [],
      "source": [
        "dt_model = DecisionTreeRegressor(random_state=42)"
      ]
    },
    {
      "cell_type": "code",
      "execution_count": 40,
      "metadata": {
        "id": "vPV4fxlVnKKl"
      },
      "outputs": [],
      "source": [
        "pipeline = Pipeline(steps=[('preprocessor', preprocessor), ('regressor', dt_model)])"
      ]
    },
    {
      "cell_type": "code",
      "execution_count": 41,
      "metadata": {
        "id": "0eS2jAagnKDb"
      },
      "outputs": [],
      "source": [
        "param_grid = {\n",
        "    'regressor__max_depth': [5, 10],\n",
        "    'regressor__min_samples_split': [2, 10],\n",
        "    'regressor__min_samples_leaf': [1, 5]\n",
        "}\n",
        "\n",
        "# GridSearch para encontrar os melhores hiperparâmetros\n",
        "grid_search = GridSearchCV(pipeline, param_grid, cv=5, scoring='neg_mean_squared_log_error', n_jobs=1)"
      ]
    },
    {
      "cell_type": "code",
      "execution_count": 42,
      "metadata": {
        "id": "6JOrlLjHpNgb",
        "colab": {
          "base_uri": "https://localhost:8080/",
          "height": 221
        },
        "outputId": "5bf16c3c-821c-4ae9-822c-7e22797d6048"
      },
      "outputs": [
        {
          "output_type": "execute_result",
          "data": {
            "text/plain": [
              "GridSearchCV(cv=5,\n",
              "             estimator=Pipeline(steps=[('preprocessor',\n",
              "                                        ColumnTransformer(transformers=[('num',\n",
              "                                                                         'passthrough',\n",
              "                                                                         ['Area',\n",
              "                                                                          'UnitPrice',\n",
              "                                                                          'PricePerTsubo',\n",
              "                                                                          'Frontage',\n",
              "                                                                          'TotalFloorArea',\n",
              "                                                                          'BuildingYear',\n",
              "                                                                          'Breadth',\n",
              "                                                                          'CoverageRatio',\n",
              "                                                                          'FloorAreaRatio']),\n",
              "                                                                        ('cat',\n",
              "                                                                         OneHotEncoder(handle_unknown='ignore'),\n",
              "                                                                         ['Region',\n",
              "                                                                          'Use'])])),\n",
              "                                       ('regressor',\n",
              "                                        DecisionTreeRegressor(random_state=42))]),\n",
              "             n_jobs=1,\n",
              "             param_grid={'regressor__max_depth': [5, 10],\n",
              "                         'regressor__min_samples_leaf': [1, 5],\n",
              "                         'regressor__min_samples_split': [2, 10]},\n",
              "             scoring='neg_mean_squared_log_error')"
            ],
            "text/html": [
              "<style>#sk-container-id-3 {color: black;}#sk-container-id-3 pre{padding: 0;}#sk-container-id-3 div.sk-toggleable {background-color: white;}#sk-container-id-3 label.sk-toggleable__label {cursor: pointer;display: block;width: 100%;margin-bottom: 0;padding: 0.3em;box-sizing: border-box;text-align: center;}#sk-container-id-3 label.sk-toggleable__label-arrow:before {content: \"▸\";float: left;margin-right: 0.25em;color: #696969;}#sk-container-id-3 label.sk-toggleable__label-arrow:hover:before {color: black;}#sk-container-id-3 div.sk-estimator:hover label.sk-toggleable__label-arrow:before {color: black;}#sk-container-id-3 div.sk-toggleable__content {max-height: 0;max-width: 0;overflow: hidden;text-align: left;background-color: #f0f8ff;}#sk-container-id-3 div.sk-toggleable__content pre {margin: 0.2em;color: black;border-radius: 0.25em;background-color: #f0f8ff;}#sk-container-id-3 input.sk-toggleable__control:checked~div.sk-toggleable__content {max-height: 200px;max-width: 100%;overflow: auto;}#sk-container-id-3 input.sk-toggleable__control:checked~label.sk-toggleable__label-arrow:before {content: \"▾\";}#sk-container-id-3 div.sk-estimator input.sk-toggleable__control:checked~label.sk-toggleable__label {background-color: #d4ebff;}#sk-container-id-3 div.sk-label input.sk-toggleable__control:checked~label.sk-toggleable__label {background-color: #d4ebff;}#sk-container-id-3 input.sk-hidden--visually {border: 0;clip: rect(1px 1px 1px 1px);clip: rect(1px, 1px, 1px, 1px);height: 1px;margin: -1px;overflow: hidden;padding: 0;position: absolute;width: 1px;}#sk-container-id-3 div.sk-estimator {font-family: monospace;background-color: #f0f8ff;border: 1px dotted black;border-radius: 0.25em;box-sizing: border-box;margin-bottom: 0.5em;}#sk-container-id-3 div.sk-estimator:hover {background-color: #d4ebff;}#sk-container-id-3 div.sk-parallel-item::after {content: \"\";width: 100%;border-bottom: 1px solid gray;flex-grow: 1;}#sk-container-id-3 div.sk-label:hover label.sk-toggleable__label {background-color: #d4ebff;}#sk-container-id-3 div.sk-serial::before {content: \"\";position: absolute;border-left: 1px solid gray;box-sizing: border-box;top: 0;bottom: 0;left: 50%;z-index: 0;}#sk-container-id-3 div.sk-serial {display: flex;flex-direction: column;align-items: center;background-color: white;padding-right: 0.2em;padding-left: 0.2em;position: relative;}#sk-container-id-3 div.sk-item {position: relative;z-index: 1;}#sk-container-id-3 div.sk-parallel {display: flex;align-items: stretch;justify-content: center;background-color: white;position: relative;}#sk-container-id-3 div.sk-item::before, #sk-container-id-3 div.sk-parallel-item::before {content: \"\";position: absolute;border-left: 1px solid gray;box-sizing: border-box;top: 0;bottom: 0;left: 50%;z-index: -1;}#sk-container-id-3 div.sk-parallel-item {display: flex;flex-direction: column;z-index: 1;position: relative;background-color: white;}#sk-container-id-3 div.sk-parallel-item:first-child::after {align-self: flex-end;width: 50%;}#sk-container-id-3 div.sk-parallel-item:last-child::after {align-self: flex-start;width: 50%;}#sk-container-id-3 div.sk-parallel-item:only-child::after {width: 0;}#sk-container-id-3 div.sk-dashed-wrapped {border: 1px dashed gray;margin: 0 0.4em 0.5em 0.4em;box-sizing: border-box;padding-bottom: 0.4em;background-color: white;}#sk-container-id-3 div.sk-label label {font-family: monospace;font-weight: bold;display: inline-block;line-height: 1.2em;}#sk-container-id-3 div.sk-label-container {text-align: center;}#sk-container-id-3 div.sk-container {/* jupyter's `normalize.less` sets `[hidden] { display: none; }` but bootstrap.min.css set `[hidden] { display: none !important; }` so we also need the `!important` here to be able to override the default hidden behavior on the sphinx rendered scikit-learn.org. See: https://github.com/scikit-learn/scikit-learn/issues/21755 */display: inline-block !important;position: relative;}#sk-container-id-3 div.sk-text-repr-fallback {display: none;}</style><div id=\"sk-container-id-3\" class=\"sk-top-container\"><div class=\"sk-text-repr-fallback\"><pre>GridSearchCV(cv=5,\n",
              "             estimator=Pipeline(steps=[(&#x27;preprocessor&#x27;,\n",
              "                                        ColumnTransformer(transformers=[(&#x27;num&#x27;,\n",
              "                                                                         &#x27;passthrough&#x27;,\n",
              "                                                                         [&#x27;Area&#x27;,\n",
              "                                                                          &#x27;UnitPrice&#x27;,\n",
              "                                                                          &#x27;PricePerTsubo&#x27;,\n",
              "                                                                          &#x27;Frontage&#x27;,\n",
              "                                                                          &#x27;TotalFloorArea&#x27;,\n",
              "                                                                          &#x27;BuildingYear&#x27;,\n",
              "                                                                          &#x27;Breadth&#x27;,\n",
              "                                                                          &#x27;CoverageRatio&#x27;,\n",
              "                                                                          &#x27;FloorAreaRatio&#x27;]),\n",
              "                                                                        (&#x27;cat&#x27;,\n",
              "                                                                         OneHotEncoder(handle_unknown=&#x27;ignore&#x27;),\n",
              "                                                                         [&#x27;Region&#x27;,\n",
              "                                                                          &#x27;Use&#x27;])])),\n",
              "                                       (&#x27;regressor&#x27;,\n",
              "                                        DecisionTreeRegressor(random_state=42))]),\n",
              "             n_jobs=1,\n",
              "             param_grid={&#x27;regressor__max_depth&#x27;: [5, 10],\n",
              "                         &#x27;regressor__min_samples_leaf&#x27;: [1, 5],\n",
              "                         &#x27;regressor__min_samples_split&#x27;: [2, 10]},\n",
              "             scoring=&#x27;neg_mean_squared_log_error&#x27;)</pre><b>In a Jupyter environment, please rerun this cell to show the HTML representation or trust the notebook. <br />On GitHub, the HTML representation is unable to render, please try loading this page with nbviewer.org.</b></div><div class=\"sk-container\" hidden><div class=\"sk-item sk-dashed-wrapped\"><div class=\"sk-label-container\"><div class=\"sk-label sk-toggleable\"><input class=\"sk-toggleable__control sk-hidden--visually\" id=\"sk-estimator-id-17\" type=\"checkbox\" ><label for=\"sk-estimator-id-17\" class=\"sk-toggleable__label sk-toggleable__label-arrow\">GridSearchCV</label><div class=\"sk-toggleable__content\"><pre>GridSearchCV(cv=5,\n",
              "             estimator=Pipeline(steps=[(&#x27;preprocessor&#x27;,\n",
              "                                        ColumnTransformer(transformers=[(&#x27;num&#x27;,\n",
              "                                                                         &#x27;passthrough&#x27;,\n",
              "                                                                         [&#x27;Area&#x27;,\n",
              "                                                                          &#x27;UnitPrice&#x27;,\n",
              "                                                                          &#x27;PricePerTsubo&#x27;,\n",
              "                                                                          &#x27;Frontage&#x27;,\n",
              "                                                                          &#x27;TotalFloorArea&#x27;,\n",
              "                                                                          &#x27;BuildingYear&#x27;,\n",
              "                                                                          &#x27;Breadth&#x27;,\n",
              "                                                                          &#x27;CoverageRatio&#x27;,\n",
              "                                                                          &#x27;FloorAreaRatio&#x27;]),\n",
              "                                                                        (&#x27;cat&#x27;,\n",
              "                                                                         OneHotEncoder(handle_unknown=&#x27;ignore&#x27;),\n",
              "                                                                         [&#x27;Region&#x27;,\n",
              "                                                                          &#x27;Use&#x27;])])),\n",
              "                                       (&#x27;regressor&#x27;,\n",
              "                                        DecisionTreeRegressor(random_state=42))]),\n",
              "             n_jobs=1,\n",
              "             param_grid={&#x27;regressor__max_depth&#x27;: [5, 10],\n",
              "                         &#x27;regressor__min_samples_leaf&#x27;: [1, 5],\n",
              "                         &#x27;regressor__min_samples_split&#x27;: [2, 10]},\n",
              "             scoring=&#x27;neg_mean_squared_log_error&#x27;)</pre></div></div></div><div class=\"sk-parallel\"><div class=\"sk-parallel-item\"><div class=\"sk-item\"><div class=\"sk-label-container\"><div class=\"sk-label sk-toggleable\"><input class=\"sk-toggleable__control sk-hidden--visually\" id=\"sk-estimator-id-18\" type=\"checkbox\" ><label for=\"sk-estimator-id-18\" class=\"sk-toggleable__label sk-toggleable__label-arrow\">estimator: Pipeline</label><div class=\"sk-toggleable__content\"><pre>Pipeline(steps=[(&#x27;preprocessor&#x27;,\n",
              "                 ColumnTransformer(transformers=[(&#x27;num&#x27;, &#x27;passthrough&#x27;,\n",
              "                                                  [&#x27;Area&#x27;, &#x27;UnitPrice&#x27;,\n",
              "                                                   &#x27;PricePerTsubo&#x27;, &#x27;Frontage&#x27;,\n",
              "                                                   &#x27;TotalFloorArea&#x27;,\n",
              "                                                   &#x27;BuildingYear&#x27;, &#x27;Breadth&#x27;,\n",
              "                                                   &#x27;CoverageRatio&#x27;,\n",
              "                                                   &#x27;FloorAreaRatio&#x27;]),\n",
              "                                                 (&#x27;cat&#x27;,\n",
              "                                                  OneHotEncoder(handle_unknown=&#x27;ignore&#x27;),\n",
              "                                                  [&#x27;Region&#x27;, &#x27;Use&#x27;])])),\n",
              "                (&#x27;regressor&#x27;, DecisionTreeRegressor(random_state=42))])</pre></div></div></div><div class=\"sk-serial\"><div class=\"sk-item\"><div class=\"sk-serial\"><div class=\"sk-item sk-dashed-wrapped\"><div class=\"sk-label-container\"><div class=\"sk-label sk-toggleable\"><input class=\"sk-toggleable__control sk-hidden--visually\" id=\"sk-estimator-id-19\" type=\"checkbox\" ><label for=\"sk-estimator-id-19\" class=\"sk-toggleable__label sk-toggleable__label-arrow\">preprocessor: ColumnTransformer</label><div class=\"sk-toggleable__content\"><pre>ColumnTransformer(transformers=[(&#x27;num&#x27;, &#x27;passthrough&#x27;,\n",
              "                                 [&#x27;Area&#x27;, &#x27;UnitPrice&#x27;, &#x27;PricePerTsubo&#x27;,\n",
              "                                  &#x27;Frontage&#x27;, &#x27;TotalFloorArea&#x27;, &#x27;BuildingYear&#x27;,\n",
              "                                  &#x27;Breadth&#x27;, &#x27;CoverageRatio&#x27;,\n",
              "                                  &#x27;FloorAreaRatio&#x27;]),\n",
              "                                (&#x27;cat&#x27;, OneHotEncoder(handle_unknown=&#x27;ignore&#x27;),\n",
              "                                 [&#x27;Region&#x27;, &#x27;Use&#x27;])])</pre></div></div></div><div class=\"sk-parallel\"><div class=\"sk-parallel-item\"><div class=\"sk-item\"><div class=\"sk-label-container\"><div class=\"sk-label sk-toggleable\"><input class=\"sk-toggleable__control sk-hidden--visually\" id=\"sk-estimator-id-20\" type=\"checkbox\" ><label for=\"sk-estimator-id-20\" class=\"sk-toggleable__label sk-toggleable__label-arrow\">num</label><div class=\"sk-toggleable__content\"><pre>[&#x27;Area&#x27;, &#x27;UnitPrice&#x27;, &#x27;PricePerTsubo&#x27;, &#x27;Frontage&#x27;, &#x27;TotalFloorArea&#x27;, &#x27;BuildingYear&#x27;, &#x27;Breadth&#x27;, &#x27;CoverageRatio&#x27;, &#x27;FloorAreaRatio&#x27;]</pre></div></div></div><div class=\"sk-serial\"><div class=\"sk-item\"><div class=\"sk-estimator sk-toggleable\"><input class=\"sk-toggleable__control sk-hidden--visually\" id=\"sk-estimator-id-21\" type=\"checkbox\" ><label for=\"sk-estimator-id-21\" class=\"sk-toggleable__label sk-toggleable__label-arrow\">passthrough</label><div class=\"sk-toggleable__content\"><pre>passthrough</pre></div></div></div></div></div></div><div class=\"sk-parallel-item\"><div class=\"sk-item\"><div class=\"sk-label-container\"><div class=\"sk-label sk-toggleable\"><input class=\"sk-toggleable__control sk-hidden--visually\" id=\"sk-estimator-id-22\" type=\"checkbox\" ><label for=\"sk-estimator-id-22\" class=\"sk-toggleable__label sk-toggleable__label-arrow\">cat</label><div class=\"sk-toggleable__content\"><pre>[&#x27;Region&#x27;, &#x27;Use&#x27;]</pre></div></div></div><div class=\"sk-serial\"><div class=\"sk-item\"><div class=\"sk-estimator sk-toggleable\"><input class=\"sk-toggleable__control sk-hidden--visually\" id=\"sk-estimator-id-23\" type=\"checkbox\" ><label for=\"sk-estimator-id-23\" class=\"sk-toggleable__label sk-toggleable__label-arrow\">OneHotEncoder</label><div class=\"sk-toggleable__content\"><pre>OneHotEncoder(handle_unknown=&#x27;ignore&#x27;)</pre></div></div></div></div></div></div></div></div><div class=\"sk-item\"><div class=\"sk-estimator sk-toggleable\"><input class=\"sk-toggleable__control sk-hidden--visually\" id=\"sk-estimator-id-24\" type=\"checkbox\" ><label for=\"sk-estimator-id-24\" class=\"sk-toggleable__label sk-toggleable__label-arrow\">DecisionTreeRegressor</label><div class=\"sk-toggleable__content\"><pre>DecisionTreeRegressor(random_state=42)</pre></div></div></div></div></div></div></div></div></div></div></div></div>"
            ]
          },
          "metadata": {},
          "execution_count": 42
        }
      ],
      "source": [
        "grid_search.fit(X_train, y_train)"
      ]
    },
    {
      "cell_type": "code",
      "execution_count": 43,
      "metadata": {
        "id": "5V2tH6JFwGOR"
      },
      "outputs": [],
      "source": [
        "X_teste = df_teste[numerical_features + categorical_features]"
      ]
    },
    {
      "cell_type": "code",
      "source": [
        "# Fazendo as previsões no dataframe de teste\n",
        "df_teste['TradePrediction'] = grid_search.best_estimator_.predict(X_teste)"
      ],
      "metadata": {
        "id": "Z-5LgEoV9bWf"
      },
      "execution_count": 44,
      "outputs": []
    },
    {
      "cell_type": "code",
      "execution_count": 47,
      "metadata": {
        "id": "kECA6YKBnJ9F",
        "colab": {
          "base_uri": "https://localhost:8080/"
        },
        "outputId": "6e104221-80f2-4c32-9877-259cb091511e"
      },
      "outputs": [
        {
          "output_type": "stream",
          "name": "stdout",
          "text": [
            "RMSLE: 1.2706530143493555, MAPE: 8.005582942775423, Best Parameters: {'regressor__max_depth': 10, 'regressor__min_samples_leaf': 5, 'regressor__min_samples_split': 2}\n"
          ]
        }
      ],
      "source": [
        "# Calculando métricas de avaliação\n",
        "rmsle_dt = np.sqrt(mean_squared_log_error(df_teste['TradePrice'], df_teste['TradePrediction']))\n",
        "mape_dt = mean_absolute_percentage_error(df_teste['TradePrice'], df_teste['TradePrediction'])\n",
        "\n",
        "print(f'RMSLE: {rmsle_dt}, MAPE: {mape_dt}, Best Parameters: {grid_search.best_params_}')"
      ]
    },
    {
      "cell_type": "code",
      "execution_count": 49,
      "metadata": {
        "id": "GTTBRe_TnJzg",
        "colab": {
          "base_uri": "https://localhost:8080/"
        },
        "outputId": "11d0a281-fb52-41f2-f087-21198cb10033"
      },
      "outputs": [
        {
          "output_type": "execute_result",
          "data": {
            "text/plain": [
              "{'MAE': 15671536.04,\n",
              " 'MSE': 1.6659649341380144e+16,\n",
              " 'RMSE': 129072264.03,\n",
              " 'R²': 0.19,\n",
              " 'Interpretacao': ['MAE: Diferente - O erro médio absoluto é relativamente alto.',\n",
              "  'MSE: Diferente - O erro quadrático médio é relativamente alto.',\n",
              "  'RMSE: Semelhante - A raiz do erro quadrático médio é relativamente baixa.',\n",
              "  'R²: Diferente - O modelo não explica bem a variabilidade dos dados.']}"
            ]
          },
          "metadata": {},
          "execution_count": 49
        }
      ],
      "source": [
        "avaliar_modelo(df_teste['TradePrice'], df_teste['TradePrediction'], alpha=0.05)"
      ]
    },
    {
      "cell_type": "code",
      "execution_count": 51,
      "metadata": {
        "id": "yNMHBHKEnJtU"
      },
      "outputs": [],
      "source": [
        "df_treino_sem_outliers.to_csv('df_treino_sem_outliers.csv', index=False)\n",
        "df_teste.to_csv('df_teste.csv', index=False)"
      ]
    },
    {
      "cell_type": "code",
      "execution_count": null,
      "metadata": {
        "id": "asRJefFdnJqF"
      },
      "outputs": [],
      "source": []
    },
    {
      "cell_type": "code",
      "execution_count": null,
      "metadata": {
        "id": "vuY8lOq4nJnZ"
      },
      "outputs": [],
      "source": []
    }
  ],
  "metadata": {
    "colab": {
      "provenance": [],
      "collapsed_sections": [
        "KFfz8fiIBrA2"
      ]
    },
    "kernelspec": {
      "display_name": "envpaipe",
      "language": "python",
      "name": "python3"
    },
    "language_info": {
      "codemirror_mode": {
        "name": "ipython",
        "version": 3
      },
      "file_extension": ".py",
      "mimetype": "text/x-python",
      "name": "python",
      "nbconvert_exporter": "python",
      "pygments_lexer": "ipython3",
      "version": "3.10.14"
    }
  },
  "nbformat": 4,
  "nbformat_minor": 0
}